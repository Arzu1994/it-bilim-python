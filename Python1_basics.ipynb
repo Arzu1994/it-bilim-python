{
 "cells": [
  {
   "cell_type": "markdown",
   "metadata": {},
   "source": [
    "# Введение в курс \"Основы программирования на Python\"\n",
    "### Темы, которые мы рассмотрим сегодня и в последующих лекциях, очень легко гуглятся. Почти любой вопрос, который придёт Вам в голову уже имеет ответ или несколько, например на stackoverflow.com. А потому лекции не нужно воспринимать как четкие инструкции или исчерпывающие объяснения, скорее, они носят ознакомительный характер."
   ]
  },
  {
   "cell_type": "markdown",
   "metadata": {},
   "source": [
    "# Python\n",
    "### Высокоуровневый язык программирования, портируемый на всём чем угодно, разработанный в 80х годах специально для какой-то операционной системы, и успешно её переживший в виду простоты, удобства и популярности.\n",
    "### Мы говорим питон, на самом деле пайтон, и не в честь какого-то большого удава, а в честь Монти Пайтона - популярный британский комедийный сериал 60-80х годов прошлого тысячелетия.\n",
    "\n",
    "### Философия питона\n"
   ]
  },
  {
   "cell_type": "code",
   "execution_count": null,
   "metadata": {},
   "outputs": [],
   "source": [
    "import this"
   ]
  },
  {
   "cell_type": "markdown",
   "metadata": {},
   "source": [
    "### На текущий момент существует две версии питона, Python2 и Python3. С первого января 2021 года Python2 больше не будет поддерживаться. Поэтому изучать плюсы/минусы, различия и особенности не имеет смысла, просто возьмем Python3\n",
    "\n",
    "\n"
   ]
  },
  {
   "cell_type": "markdown",
   "metadata": {},
   "source": [
    "# Лекция 1"
   ]
  },
  {
   "cell_type": "markdown",
   "metadata": {},
   "source": [
    "# Установка, настройка, Ipython, jupyter. Числа, строки и операции с ними. Standard I/O. Условия и циклы. "
   ]
  },
  {
   "cell_type": "markdown",
   "metadata": {},
   "source": [
    "# Установка\n",
    "\n",
    "### Установка, разумеется, рознится в зависимости от операционной системы. Ввиду популярности и вариативности языка, методов установки найдется очень много. Из простейших и рекомендуемых:  \n",
    "### с официального сайта https://www.python.org/downloads/\n",
    "### кондой https://www.anaconda.com/products/individual\n",
    "\n",
    "### Вообще, в линуксе уже есть встроенный питон, а в виндоус 10 вроде бы есть встроенный линукс, и такая система матрешек означает, что скорее всего он уже есть почти у каждого \n",
    "### P.S.(извините, я ничего не знаю про MacOS, но не удивлюсь если и там он тоже есть)\n"
   ]
  },
  {
   "cell_type": "markdown",
   "metadata": {},
   "source": [
    "# А как лучше питонить?"
   ]
  },
  {
   "cell_type": "markdown",
   "metadata": {},
   "source": [
    "Есть минимум 3 варианта запускать код\n",
    "* Сохранять в файле с расширением \".py\", после чего запускать интерпрератор python с подачей этого файла на вход (обычный способ)\n",
    "* Использовать интерактивный режим в командной строке (запуск интерпретатора `python` и ввод команд справа от `>>>`)\n",
    "* Использовать интерактивный режим (например, Jupyter)"
   ]
  },
  {
   "cell_type": "markdown",
   "metadata": {},
   "source": [
    "Мы сейчас, соответственно, в юпитере. Так и будем продолжать все последующие презентации, потому что для лекций это удобно и красиво. \n",
    "\n",
    "!!! ВАЖНО \n",
    "Сразу надо отметить, что это не всегда самый удобный вариант для работы. Причин много. Во первых прыгать по окошкам запуская их в нужном порядке - удобно для какого-нибудь дебага или тестирования, но становится слишком медленным и трудозатратным когда надо это проделать много раз.\n",
    "Кроме того, юпитер не высвобождает память после окончания работы. Т.е. гпу остаются загруженными, а повторный запуск и вовсе может привести к переполнению памяти."
   ]
  },
  {
   "cell_type": "markdown",
   "metadata": {},
   "source": [
    "### Установка jupyter\n",
    "Делается с помощью `pip install jupyter`"
   ]
  },
  {
   "cell_type": "markdown",
   "metadata": {},
   "source": [
    "### Запуск jupyter\n",
    "После установки запуск происоходит с помощью команды `jupyter-notebook`. Браузер автоматически откроет главное командное окно jupyter с заголовком \"Home\". Для запуска нового ноутбука нужно будет нажать на кнопку справа \"New\" и выбрать интерпретатор - Python 3."
   ]
  },
  {
   "cell_type": "markdown",
   "metadata": {},
   "source": [
    "### Ячейки (cell)\n",
    "Ячейки бывают двух типов: ячейки кода и ячейки разметки. \n",
    "\n",
    "В ячейках кода пишется код (точно так же, как и в обычном \\*.py). \n",
    "\n",
    "В ячейках разметки пишется обычный поясняющий текст (есть неплохая поддержка ТеХ: $\\sum_{i=0}^{\\infty}\\frac{1}{x^{i}}$ )."
   ]
  },
  {
   "cell_type": "markdown",
   "metadata": {},
   "source": [
    "### Особенности ячеек кода\n",
    "* Обычно код запускается ячейка за ячейкой (в любом порядке), кнопка \"Run\"\n",
    "* Если код \"завис\", то делается прерывание ядра (кнопка \"Interrupt\", аналог \"Ctrl-C\" в консоли)\n",
    "* В совсем запущенных случаях нужно делать перезапуск ядра с самого начала (кнопка \"Restart\")\n",
    "* При прерывании ядра значения переменных сохраняются, при перезапуске - нет"
   ]
  },
  {
   "cell_type": "markdown",
   "metadata": {},
   "source": [
    "### Запуск системных команд\n",
    "Делается с помощью `!команда`."
   ]
  },
  {
   "cell_type": "code",
   "execution_count": 7,
   "metadata": {},
   "outputs": [
    {
     "name": "stdout",
     "output_type": "stream",
     "text": [
      "/home/andrey/Desktop\n",
      "fio1.txt  fio2.txt  fio.txt  mypackage2.py  mypackage.py  Python_1.ipynb  tst\n"
     ]
    }
   ],
   "source": [
    "!pwd\n",
    "!ls"
   ]
  },
  {
   "cell_type": "code",
   "execution_count": null,
   "metadata": {},
   "outputs": [],
   "source": []
  },
  {
   "cell_type": "code",
   "execution_count": null,
   "metadata": {},
   "outputs": [],
   "source": []
  },
  {
   "cell_type": "markdown",
   "metadata": {},
   "source": [
    "# Основные типы данных"
   ]
  },
  {
   "cell_type": "markdown",
   "metadata": {},
   "source": [
    "# Какими основными типами данных будем в основном пользоваться:\n",
    "* Числовые: `int` -> `float` -> `complex`\n",
    "* Логический: `bool` (`True` или `False`)\n",
    "* Строковый: `str`\n",
    "* `NoneType` и его единственный представитель: `None`\n",
    "\n",
    "Посмотреть тип переменной можно с помощью конструкции `type(var)`"
   ]
  },
  {
   "cell_type": "code",
   "execution_count": 3,
   "metadata": {},
   "outputs": [
    {
     "name": "stdout",
     "output_type": "stream",
     "text": [
      "10 <class 'int'>\n",
      "3.3333333333333335 <class 'float'>\n",
      "(2+3j) <class 'complex'>\n",
      "False <class 'bool'>\n",
      "string_value <class 'str'>\n",
      "None <class 'NoneType'>\n",
      "True True\n"
     ]
    }
   ],
   "source": [
    "x = 10\n",
    "print(x, type(x))\n",
    "y = 10 / 3\n",
    "print(y, type(y))\n",
    "z = 2 + 3j\n",
    "print(z, type(z))\n",
    "a_0 = True\n",
    "a_1 = False\n",
    "a = a_0 == a_1\n",
    "print(a, type(a))\n",
    "b = \"string_value\"\n",
    "print(b, type(b))\n",
    "c = None\n",
    "print(c, type(c))\n",
    "c_1 = c is None\n",
    "c_2 = b is not None\n",
    "print(c_1, c_2)"
   ]
  },
  {
   "cell_type": "markdown",
   "metadata": {},
   "source": [
    "## А еще в Python возможны множественные сравнения, так же как и присваивания:"
   ]
  },
  {
   "cell_type": "code",
   "execution_count": 4,
   "metadata": {},
   "outputs": [
    {
     "name": "stdout",
     "output_type": "stream",
     "text": [
      "True\n",
      "10 123 123\n"
     ]
    }
   ],
   "source": [
    "varx = 10\n",
    "print(5 < varx < 15)\n",
    "vary = varz = 123\n",
    "print(varx, vary, varz)"
   ]
  },
  {
   "cell_type": "markdown",
   "metadata": {},
   "source": [
    "# Форматирование строк\n",
    "Два основных метода форматирования строк:\n",
    "* Классический метод: с помощью оператора `%` (близок к Сишному `sprintf`)\n",
    "* Усовершенствованный способ: с помощью функции `format`"
   ]
  },
  {
   "cell_type": "code",
   "execution_count": 1,
   "metadata": {},
   "outputs": [
    {
     "name": "stdout",
     "output_type": "stream",
     "text": [
      "abra 1.11 34\n",
      "abracadabra\n"
     ]
    }
   ],
   "source": [
    "s_in = \"%s %.2f %d\"\n",
    "s_out = s_in % (\"abra\", 1.1111, 34)\n",
    "t_in = '{0}{1}{0}' # в фигурных скобках будут вставляться значения из списка format с соответствующими индексами\n",
    "t_out = t_in.format('abra', 'cad') # Одинарные и двойные кавычки равнозначны\n",
    "print(s_out)\n",
    "print(t_out)\n"
   ]
  },
  {
   "cell_type": "code",
   "execution_count": null,
   "metadata": {},
   "outputs": [],
   "source": []
  },
  {
   "cell_type": "code",
   "execution_count": null,
   "metadata": {},
   "outputs": [],
   "source": []
  },
  {
   "cell_type": "code",
   "execution_count": null,
   "metadata": {},
   "outputs": [],
   "source": []
  },
  {
   "cell_type": "code",
   "execution_count": null,
   "metadata": {},
   "outputs": [],
   "source": []
  },
  {
   "cell_type": "markdown",
   "metadata": {},
   "source": [
    "# Важные замечания"
   ]
  },
  {
   "cell_type": "markdown",
   "metadata": {},
   "source": [
    "## Регистрозависимость\n",
    "Все идентификаторы (названия служебных слов, переменных, функций, классов, пакетов и пр.) регистрозависимые."
   ]
  },
  {
   "cell_type": "code",
   "execution_count": 6,
   "metadata": {},
   "outputs": [
    {
     "name": "stdout",
     "output_type": "stream",
     "text": [
      "a = 20 A = 10\n"
     ]
    }
   ],
   "source": [
    "A = 10\n",
    "a = 20\n",
    "print(\"a =\", a, \"A =\", A)"
   ]
  },
  {
   "cell_type": "markdown",
   "metadata": {},
   "source": [
    "## Индексация\n",
    "Индексы внутри последовательных структур данных всегда начинаются с `0`."
   ]
  },
  {
   "cell_type": "code",
   "execution_count": 7,
   "metadata": {},
   "outputs": [
    {
     "name": "stdout",
     "output_type": "stream",
     "text": [
      "1\n"
     ]
    }
   ],
   "source": [
    "lis = [1, 2, 3, 4]\n",
    "print(lis[0])"
   ]
  },
  {
   "cell_type": "markdown",
   "metadata": {},
   "source": [
    "## (!!!) Выделение блоков кода\n",
    "Многострочные блоки кода одного уровня, такие как условные конструкции, циклы и пр., всегда выделяются с помощью одинакового числа отступов (пробелы или табы). Лучше использовать отступ в 4 пробела.\n",
    "\n",
    "Если очень хочется поместить в одну строку несколько конструкций, можно пользоваться точкой с запятой `;`"
   ]
  },
  {
   "cell_type": "code",
   "execution_count": 8,
   "metadata": {},
   "outputs": [
    {
     "name": "stdout",
     "output_type": "stream",
     "text": [
      "x > 5\n",
      "First print.\n",
      "Second print.\n"
     ]
    }
   ],
   "source": [
    "x = 7\n",
    "if x > 5:\n",
    "    print(\"x > 5\")\n",
    "else:\n",
    "    print(\"x <= 5\")\n",
    "\n",
    "print('First print.'); print('Second print.') "
   ]
  },
  {
   "cell_type": "markdown",
   "metadata": {},
   "source": [
    "## Комментарии\n",
    "* Однострочный комментарий начинается с символа `#`, который должен быть выровнен так же, как и блок кода, к которому он относится (если идет первым в строке)\n",
    "* Многострочный комментарий начинается и заканчивается тройной кавычкой `\"\"\"`"
   ]
  },
  {
   "cell_type": "code",
   "execution_count": 9,
   "metadata": {},
   "outputs": [
    {
     "name": "stdout",
     "output_type": "stream",
     "text": [
      "x < 2\n",
      "End of comments\n"
     ]
    }
   ],
   "source": [
    "# Comment 1\n",
    "x = 1 # Comment 2\n",
    "if x < 2:\n",
    "    # Comment 3\n",
    "    print(\"x < 2\")\n",
    "\"\"\"\n",
    "Multi-line \n",
    "comment\n",
    "\"\"\"\n",
    "print(\"End of comments\")"
   ]
  },
  {
   "cell_type": "code",
   "execution_count": null,
   "metadata": {},
   "outputs": [],
   "source": []
  },
  {
   "cell_type": "code",
   "execution_count": null,
   "metadata": {},
   "outputs": [],
   "source": []
  },
  {
   "cell_type": "code",
   "execution_count": null,
   "metadata": {},
   "outputs": [],
   "source": []
  },
  {
   "cell_type": "code",
   "execution_count": null,
   "metadata": {},
   "outputs": [],
   "source": []
  },
  {
   "cell_type": "markdown",
   "metadata": {},
   "source": [
    "# Условия"
   ]
  },
  {
   "cell_type": "code",
   "execution_count": 11,
   "metadata": {},
   "outputs": [
    {
     "name": "stdout",
     "output_type": "stream",
     "text": [
      "10 <= x < 30\n",
      "x >= 20\n"
     ]
    }
   ],
   "source": [
    "x = 23\n",
    "if x < 10:\n",
    "    print('x < 10')\n",
    "elif x < 30:\n",
    "    print('10 <= x < 30')\n",
    "else:\n",
    "    print('x >= 30')\n",
    "\n",
    "print('x < 20') if x < 20 else print('x >= 20')"
   ]
  },
  {
   "cell_type": "markdown",
   "metadata": {},
   "source": [
    "# Циклы"
   ]
  },
  {
   "cell_type": "markdown",
   "metadata": {},
   "source": [
    "* Цикл с предусловием: `while условие: тело_цикла`\n",
    "* Переборный цикл: `for i in итератор: тело_цикла`"
   ]
  },
  {
   "cell_type": "code",
   "execution_count": 12,
   "metadata": {},
   "outputs": [
    {
     "name": "stdout",
     "output_type": "stream",
     "text": [
      "while 5\n",
      "while 4\n",
      "while 3\n",
      "while 2\n",
      "while 1\n",
      "for 1\n",
      "for 2\n",
      "for 3\n"
     ]
    }
   ],
   "source": [
    "i = 5\n",
    "while i > 0:\n",
    "    print('while', i)\n",
    "    i -= 1\n",
    "\n",
    "lis = [1, 2, 3]\n",
    "for i in lis:\n",
    "    print('for', i) "
   ]
  },
  {
   "cell_type": "markdown",
   "metadata": {},
   "source": [
    "* Ходом выполнения цикла можно дополнительно управлять с помощью `break` и `continue`\n",
    "    * `break` делает аварийный выход из цикла\n",
    "    * `continue` начинает сразу следующую итерацию цикла"
   ]
  },
  {
   "cell_type": "code",
   "execution_count": 13,
   "metadata": {},
   "outputs": [
    {
     "name": "stdout",
     "output_type": "stream",
     "text": [
      "while 10\n",
      "while 9\n",
      "while 8\n",
      "while 6\n",
      "while 5\n"
     ]
    }
   ],
   "source": [
    "i = 10\n",
    "while i > 0:\n",
    "    if i == 7: # Не печатаем 7\n",
    "        i -= 1\n",
    "        continue\n",
    "    print('while', i)\n",
    "    if i == 5: # Выходим при достижении 5\n",
    "        break\n",
    "    i -= 1"
   ]
  },
  {
   "cell_type": "markdown",
   "metadata": {},
   "source": [
    "# Цикл for"
   ]
  },
  {
   "cell_type": "markdown",
   "metadata": {},
   "source": [
    "* Если итерируемый список состоит из последовательностей, то их можно сразу распаковать\n",
    "* Если необходимо знать не только значение из списка, но и его индекс, используется `enumerate(список)`\n",
    "* Для словаря используется конструкция `словарь.items()`\n",
    "* Для итераций по списку последовательных целых значений используется `range`"
   ]
  },
  {
   "cell_type": "code",
   "execution_count": 15,
   "metadata": {},
   "outputs": [
    {
     "name": "stdout",
     "output_type": "stream",
     "text": [
      "(1,2)\n",
      "(2,3)\n",
      "(6,7)\n"
     ]
    }
   ],
   "source": [
    "lis = [(1, 2), (2, 3), (6, 7)]\n",
    "for i, j in lis: # Распаковка кортежа\n",
    "    print('({},{})'.format(i, j))"
   ]
  },
  {
   "cell_type": "code",
   "execution_count": 16,
   "metadata": {},
   "outputs": [
    {
     "name": "stdout",
     "output_type": "stream",
     "text": [
      "lis[0] = 1\n",
      "lis[1] = 2\n",
      "lis[2] = 3\n"
     ]
    }
   ],
   "source": [
    "lis = [1, 2, 3]\n",
    "for ind, val in enumerate(lis): # Следим за индексами\n",
    "    print('lis[{}] = {}'.format(ind, val))"
   ]
  },
  {
   "cell_type": "code",
   "execution_count": 17,
   "metadata": {},
   "outputs": [
    {
     "name": "stdout",
     "output_type": "stream",
     "text": [
      "h[key1] = val1\n",
      "h[111] = 222\n",
      "h[key3] = 0\n",
      "h[key1] = val1\n",
      "h[111] = 222\n",
      "h[key3] = 0\n"
     ]
    }
   ],
   "source": [
    "h = {'key1' : 'val1', 111 : 222, 'key3' : 0}\n",
    "for key, val in h.items(): # Пример использования items()\n",
    "    print('h[{}] = {}'.format(key, val))\n",
    "\n",
    "# Но можно и так    \n",
    "for key in h: # В словаре итератор работает по ключам\n",
    "    print('h[{}] = {}'.format(key, h[key])) "
   ]
  },
  {
   "cell_type": "code",
   "execution_count": 18,
   "metadata": {},
   "outputs": [
    {
     "name": "stdout",
     "output_type": "stream",
     "text": [
      "Iteration number 0\n",
      "Iteration number 1\n",
      "Iteration number 2\n"
     ]
    }
   ],
   "source": [
    "for i in range(3): # range(n) - итератор по последовательности 0..n-1\n",
    "    print('Iteration number', i)"
   ]
  },
  {
   "cell_type": "markdown",
   "metadata": {},
   "source": [
    "### List comprehensions (однострочные генераторы циклов)"
   ]
  },
  {
   "cell_type": "markdown",
   "metadata": {},
   "source": [
    "Является синтаксическим сахаром. Нужно для быстрого формирования списков или словарей с учетом прореживания по условию.\n",
    "* Простая форма для списка: `[выражение for var in последовательность if условие]`"
   ]
  },
  {
   "cell_type": "code",
   "execution_count": 19,
   "metadata": {},
   "outputs": [
    {
     "name": "stdout",
     "output_type": "stream",
     "text": [
      "[9, 16, 25] True\n"
     ]
    }
   ],
   "source": [
    "lis1 = [1, 2, 3, 4, 5]\n",
    "lis2 = [x*x for x in lis1 if x > 2]\n",
    "# Это эквивалентно\n",
    "lis3 = []\n",
    "for x in lis1:\n",
    "    if x > 2:\n",
    "        lis3.append(x*x)\n",
    "print(lis2, lis2 == lis3)"
   ]
  },
  {
   "cell_type": "markdown",
   "metadata": {},
   "source": [
    "* Вложенные циклы: `[выражение for var1 in последовательность1 for var2 in последовательность2 if условие]`"
   ]
  },
  {
   "cell_type": "code",
   "execution_count": 20,
   "metadata": {},
   "outputs": [
    {
     "name": "stdout",
     "output_type": "stream",
     "text": [
      "[-2, -4, -6, -8, -10] True\n"
     ]
    }
   ],
   "source": [
    "lis1 = [(1,-1), (2,-2), (3,-3), (4,-4), (5,-5)]\n",
    "lis2 = [2*y for x in lis1 for y in x if y < 0]\n",
    "# Это эквивалентно\n",
    "lis3 = []\n",
    "for x in lis1:\n",
    "    for y in x:\n",
    "        if y < 0:\n",
    "            lis3.append(2*y)\n",
    "print(lis2, lis2 == lis3)"
   ]
  },
  {
   "cell_type": "code",
   "execution_count": 21,
   "metadata": {},
   "outputs": [
    {
     "name": "stdout",
     "output_type": "stream",
     "text": [
      "{3: 9, 4: 16, 5: 25}\n"
     ]
    }
   ],
   "source": [
    "lis1 = [1, 2, 3, 4, 5]\n",
    "h = {x : x*x for x in lis1 if x > 2}\n",
    "print(h)"
   ]
  },
  {
   "cell_type": "markdown",
   "metadata": {},
   "source": [
    "* Быстрая проверка на выполнение условие для всех элементов списка (`all`) или хотя бы одного (`any`)"
   ]
  },
  {
   "cell_type": "code",
   "execution_count": 23,
   "metadata": {},
   "outputs": [
    {
     "name": "stdout",
     "output_type": "stream",
     "text": [
      "any=True, all=False\n"
     ]
    }
   ],
   "source": [
    "var_a = [1, 4, 55, 128]\n",
    "ans_any = any(x > 127 for x in var_a)\n",
    "ans_all = all(x > 127 for x in var_a)\n",
    "print('any={}, all={}'.format(ans_any, ans_all))"
   ]
  },
  {
   "cell_type": "markdown",
   "metadata": {},
   "source": [
    "## Строки"
   ]
  },
  {
   "cell_type": "markdown",
   "metadata": {},
   "source": [
    "### Строки как списки"
   ]
  },
  {
   "cell_type": "markdown",
   "metadata": {},
   "source": [
    "* Строки можно понимать как массив символов\n",
    "    * Соответственно проходить по символам циклом\n",
    "    * Такая же индексация\n",
    "    * Однако списком не является - при присвоении строки ведут себя как скалярные величины, а не как списки"
   ]
  },
  {
   "cell_type": "code",
   "execution_count": 24,
   "metadata": {},
   "outputs": [
    {
     "name": "stdout",
     "output_type": "stream",
     "text": [
      "H\n",
      "e\n",
      "l\n",
      "l\n",
      "o\n",
      " \n",
      "t\n",
      "o\n",
      " \n",
      "A\n",
      "l\n",
      "l\n",
      "1st char: H\n",
      "Slice: Hello\n",
      "st = Hello to All st2 = Hello to All!!!\n"
     ]
    }
   ],
   "source": [
    "st = \"Hello to All\"\n",
    "for c in st:\n",
    "    print(c)\n",
    "print(\"1st char:\", st[0])\n",
    "print(\"Slice:\", st[:5])\n",
    "st2 = st # Копируем ссылку\n",
    "st2 += \"!!!\" # Меняем st2\n",
    "print('st =', st, 'st2 =', st2) # st не поменялась!"
   ]
  },
  {
   "cell_type": "markdown",
   "metadata": {},
   "source": [
    "### Полезные функции"
   ]
  },
  {
   "cell_type": "markdown",
   "metadata": {},
   "source": [
    "* Объединять строки с помощью одного разделителя: `разделитель.join(последовательность_строк)`\n",
    "* Разделить строку в список, используя разделитель: `строка.split(разделитель)`"
   ]
  },
  {
   "cell_type": "code",
   "execution_count": 25,
   "metadata": {},
   "outputs": [
    {
     "name": "stdout",
     "output_type": "stream",
     "text": [
      "Hello_to_all\n"
     ]
    }
   ],
   "source": [
    "st_list1 = ['Hello', 'to', 'all']\n",
    "st1 = '_'.join(st_list1)\n",
    "print(st1)"
   ]
  },
  {
   "cell_type": "code",
   "execution_count": 26,
   "metadata": {},
   "outputs": [
    {
     "name": "stdout",
     "output_type": "stream",
     "text": [
      "['Hello', 'to', 'all']\n"
     ]
    }
   ],
   "source": [
    "st2 = 'Hello,to,all'\n",
    "st_list2 = st2.split(',')\n",
    "print(st_list2)"
   ]
  },
  {
   "cell_type": "markdown",
   "metadata": {},
   "source": [
    "* Найти подстроку: `строка.find(подстрока)`\n",
    "* Заменить подстроку: `строка.replace(подстрока_old, подстрока_new)`\n",
    "* Проверка на вхождение (индекс не нужен): с помощью оператора `in`\n",
    "* Наиболее гибко можно работать со строками в модуле регулярных выражений `re`"
   ]
  },
  {
   "cell_type": "code",
   "execution_count": 27,
   "metadata": {},
   "outputs": [
    {
     "name": "stdout",
     "output_type": "stream",
     "text": [
      "Index of \"lo\": 3\n",
      "Index of \"hi\": -1\n",
      "\"to\" is in string: True\n",
      "Replace \"all\" -> \"you\": Hello to you\n"
     ]
    }
   ],
   "source": [
    "st = 'Hello to all'\n",
    "print('Index of \"lo\":', st.find('lo')) # индекс подстроки\n",
    "print('Index of \"hi\":', st.find('hi')) # или -1, если такой нет\n",
    "print('\"to\" is in string:', 'to' in st)\n",
    "print('Replace \"all\" -> \"you\":', st.replace('all', 'you'))"
   ]
  },
  {
   "cell_type": "code",
   "execution_count": null,
   "metadata": {},
   "outputs": [],
   "source": []
  },
  {
   "cell_type": "markdown",
   "metadata": {},
   "source": [
    "### Простейший ввод-вывод"
   ]
  },
  {
   "cell_type": "markdown",
   "metadata": {},
   "source": [
    "* С функцией вывода на экран `print` вы уже знакомы. Для считывания данных с клавиатуры используется `input`"
   ]
  },
  {
   "cell_type": "code",
   "execution_count": 28,
   "metadata": {},
   "outputs": [
    {
     "name": "stdout",
     "output_type": "stream",
     "text": [
      "Enter string: 7\n",
      "You entered: 7\n"
     ]
    }
   ],
   "source": [
    "s = input('Enter string: ')\n",
    "print('You entered:', s)"
   ]
  },
  {
   "cell_type": "markdown",
   "metadata": {},
   "source": [
    "* Для работы с файлами используются стандартные функции `open()` и `close()`.\n",
    "    * Открыть файл: `файловый_дескриптор = open(имя_файла, флаги)`\n",
    "    * Флаги: 't' - текстовый (по умолчанию) или 'b' - бинарный, 'r', 'w', 'a' - открыть для чтения, записи, или добавления в конец\n",
    "    * Закрыть файл можно как `файловый_дескриптор.close()` либо при выходе из оператора контекста `with`"
   ]
  },
  {
   "cell_type": "code",
   "execution_count": 30,
   "metadata": {},
   "outputs": [],
   "source": [
    "f = open('fio.txt', 'w') # Открываем файл\n",
    "# Совершаем файловые операции\n",
    "f.close() # Закрываем файл\n",
    "\n",
    "# Или то же самое, но проще\n",
    "with open(\"fio.txt\", 'w') as f: # Используем оператор контекста\n",
    "    # Совершаем файловые операции\n",
    "    pass # Обозначение пустого блока\n",
    "# На выходе из блока 'with' файл уже закрыт"
   ]
  },
  {
   "cell_type": "markdown",
   "metadata": {},
   "source": [
    "* Запись в файл можно сделать двумя способами\n",
    "    * `print(строка, file=файловый_дескриптор)`\n",
    "    * `файловый_дескриптор.write(строка)`"
   ]
  },
  {
   "cell_type": "code",
   "execution_count": 31,
   "metadata": {},
   "outputs": [
    {
     "name": "stdout",
     "output_type": "stream",
     "text": [
      "Hello,\n",
      "World!\n",
      "Hello,\n",
      "World!"
     ]
    }
   ],
   "source": [
    "str1 = 'Hello,'\n",
    "str2 = 'World!'\n",
    "with open('fio1.txt', 'w') as f:\n",
    "    print(str1, file=f)\n",
    "    print(str2, file=f)\n",
    "with open('fio2.txt', 'w') as f:\n",
    "    f.write(str1 + '\\n') # write не добавляет перевод строки\n",
    "    f.write(str2)\n",
    "!cat fio1.txt\n",
    "!cat fio2.txt"
   ]
  },
  {
   "cell_type": "markdown",
   "metadata": {},
   "source": [
    "* Чтение из файла лучше делать построчно\n",
    "    * Пройтись циклом по строкам: `for переменная in дескриптор_файла` \n",
    "    * Можно сразу получить все строки: `дескриптор_файла.readlines()`"
   ]
  },
  {
   "cell_type": "code",
   "execution_count": 32,
   "metadata": {},
   "outputs": [
    {
     "name": "stdout",
     "output_type": "stream",
     "text": [
      "Hello,\n",
      "World!\n",
      "['Hello,\\n', 'World!']\n"
     ]
    }
   ],
   "source": [
    "with open('fio1.txt', 'r') as f:\n",
    "    for line in f:\n",
    "        print(line, end='') \n",
    "        # В прочитанных строках есть перевод строки, поэтому не будем переводить строки после print\n",
    "with open('fio2.txt', 'r') as f:\n",
    "    lines = f.readlines()\n",
    "    print(lines)"
   ]
  },
  {
   "cell_type": "code",
   "execution_count": null,
   "metadata": {},
   "outputs": [],
   "source": []
  }
 ],
 "metadata": {
  "kernelspec": {
   "display_name": "Python 3",
   "language": "python",
   "name": "python3"
  },
  "language_info": {
   "codemirror_mode": {
    "name": "ipython",
    "version": 3
   },
   "file_extension": ".py",
   "mimetype": "text/x-python",
   "name": "python",
   "nbconvert_exporter": "python",
   "pygments_lexer": "ipython3",
   "version": "3.7.5"
  }
 },
 "nbformat": 4,
 "nbformat_minor": 4
}
