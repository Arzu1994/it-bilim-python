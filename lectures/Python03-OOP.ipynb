{
 "cells": [
  {
   "cell_type": "markdown",
   "metadata": {},
   "source": [
    "# Семинар №3: Основы объектно-ориентированного программирования в Python\n",
    "![alt text](Python03-OOP_extra/Python-logo-notext.svg)"
   ]
  },
  {
   "cell_type": "markdown",
   "metadata": {},
   "source": [
    "Объектно-ориентированное программирование (ООП) - это парадигма программирования, основанная на концепции \"объектов\", каждый из которых является экземпляром определённого класса. Таким образом, программа представляется как совокупность объектов, взаимодействующих друг с другом.\n",
    "\n",
    "Объекты содержат в себе данные и исполняемый код, что является одним из ключевых отличий от процедурного программирования, в котором данные и обрабатывающие их подпрограммы формально не связаны."
   ]
  },
  {
   "cell_type": "markdown",
   "metadata": {},
   "source": [
    "## Основные определения ООП:"
   ]
  },
  {
   "cell_type": "markdown",
   "metadata": {},
   "source": [
    "### Класс\n",
    "\n",
    "#### Класс - это универсальный тип данных, состоящий из набора полей (свойств, аттрибутов) и методов для работы с данными."
   ]
  },
  {
   "cell_type": "markdown",
   "metadata": {},
   "source": [
    "### Объект\n",
    "\n",
    "#### Объект - это сущность в адресном пространстве вычислительной системы, появляющаяся при создании экземпляра класса."
   ]
  },
  {
   "cell_type": "markdown",
   "metadata": {},
   "source": [
    "### Абстракция\n",
    "\n",
    "#### Абстракция - это выделение значимой информации и исключение из рассмотрения незначимой."
   ]
  },
  {
   "cell_type": "markdown",
   "metadata": {},
   "source": [
    "### Инкапсуляция\n",
    "\n",
    "#### Инкапсуляция - это свойство системы, позволяющее объединить данные и методы, работающие с ними, в классе."
   ]
  },
  {
   "cell_type": "markdown",
   "metadata": {},
   "source": [
    "### Наследование\n",
    "\n",
    "#### Наследование - это свойство системы, позволяющее описать новый класс на основе уже существующего с частично или полностью заимствующейся функциональностью. Класс, от которого производится наследование, называется базовым, родительским или суперклассом. Новый класс — потомком, наследником, дочерним или производным классом."
   ]
  },
  {
   "cell_type": "markdown",
   "metadata": {},
   "source": [
    "### Полиморфизм\n",
    "\n",
    "#### Полиморфизм (или \"полиморфизм подтипов\") - это свойство системы, позволяющее использовать объекты с одинаковым интерфейсом без информации о типе и внутренней структуре объекта."
   ]
  },
  {
   "cell_type": "markdown",
   "metadata": {},
   "source": [
    "### К достоинствам ООП следует отнести модульность, гибкость и высокую возможность повторного использования кода."
   ]
  },
  {
   "cell_type": "markdown",
   "metadata": {},
   "source": [
    "Python - мультипарадигменный язык программирования и имеет встроенную поддержку ООП. Более того, в Python 3 все сущности являются объектами некоторого класса:"
   ]
  },
  {
   "cell_type": "code",
   "execution_count": 1,
   "metadata": {},
   "outputs": [
    {
     "name": "stdout",
     "output_type": "stream",
     "text": [
      "<class 'int'>\n",
      "<class 'function'>\n"
     ]
    }
   ],
   "source": [
    "x = 1\n",
    "\n",
    "def foo():\n",
    "    pass\n",
    "\n",
    "print(x.__class__)\n",
    "print(foo.__class__)"
   ]
  },
  {
   "cell_type": "markdown",
   "metadata": {},
   "source": [
    "Классы в Python объявляются с помощью ключевого слова \"class\":"
   ]
  },
  {
   "cell_type": "code",
   "execution_count": 2,
   "metadata": {},
   "outputs": [
    {
     "name": "stdout",
     "output_type": "stream",
     "text": [
      "<class '__main__.MyClass'>\n"
     ]
    }
   ],
   "source": [
    "class MyClass:\n",
    "    pass\n",
    "\n",
    "my_object = MyClass()\n",
    "\n",
    "print(my_object.__class__)"
   ]
  },
  {
   "cell_type": "markdown",
   "metadata": {},
   "source": [
    "Функции, обрабатывающие данные класса, и объявленные в этом классе, называются методами."
   ]
  },
  {
   "cell_type": "markdown",
   "metadata": {},
   "source": [
    "Методы могут быть статическими (относящимися к классу) и нестатическими (относящимися к конкретному объекту)."
   ]
  },
  {
   "cell_type": "markdown",
   "metadata": {},
   "source": [
    "Первым аргументом каждого нестатического метода класса должен быть объект *self*, т.е. ссылка на сам объект.\n",
    "\n",
    "Однако, при вызове аргумент self не передаётся методу."
   ]
  },
  {
   "cell_type": "code",
   "execution_count": 3,
   "metadata": {},
   "outputs": [
    {
     "name": "stdout",
     "output_type": "stream",
     "text": [
      "10\n",
      "15\n"
     ]
    }
   ],
   "source": [
    "class MyClass:\n",
    "    def set_arg(self, x):\n",
    "        self.arg = x\n",
    "    \n",
    "    def increase_arg(self, y):\n",
    "        self.arg += y\n",
    "    \n",
    "    def get_arg(self):\n",
    "        return self.arg\n",
    "\n",
    "my_object = MyClass()\n",
    "my_object.set_arg(10)\n",
    "print(my_object.get_arg())\n",
    "my_object.increase_arg(5)\n",
    "print(my_object.get_arg())"
   ]
  },
  {
   "cell_type": "markdown",
   "metadata": {},
   "source": [
    "Существует ряд \"особых\" методов, имеющих специальное значение:\n",
    "\n",
    "    Конструктор - метод, который автоматически вызывается при создании объекта. В конструкторе, обычно, производится инициализация состояния объекта, выделение ресурсов и т.п. Конструктору могут быть переданы начальные значения аттрибутов объекта.\n",
    "    \n",
    "    Деструктор - метод, который автоматически вызывается при уничтожении объекта. В деструкторе осуществляется освобождение ресурсов."
   ]
  },
  {
   "cell_type": "markdown",
   "metadata": {},
   "source": [
    "Конструктор класса объявляется в методе *\\_\\_init\\_\\_*."
   ]
  },
  {
   "cell_type": "code",
   "execution_count": 4,
   "metadata": {},
   "outputs": [
    {
     "name": "stdout",
     "output_type": "stream",
     "text": [
      "MyClass constructor: arg = 10\n"
     ]
    }
   ],
   "source": [
    "class MyClass:\n",
    "    def __init__(self, arg):\n",
    "        self.arg = arg\n",
    "        print(f\"MyClass constructor: arg = {arg}\")\n",
    "\n",
    "my_object = MyClass(10)"
   ]
  },
  {
   "cell_type": "markdown",
   "metadata": {},
   "source": [
    "Деструктор класса объявляется в методе *\\_\\_del\\_\\_*.\n",
    "\n",
    "В отличии от C++ удаление объекта осуществляется не при выходе из области видимости или обнулении счётчика ссылок на объект и даже не при явном удалении с помощью ключевого слова *del*, а тогда, когда сборщик мусора решит уничтожить объект, что на практике бывает трудно предсказать.\n",
    "\n",
    "В приведённом примере объект my_object существует в области видимости функции *foo*."
   ]
  },
  {
   "cell_type": "code",
   "execution_count": 5,
   "metadata": {},
   "outputs": [
    {
     "name": "stdout",
     "output_type": "stream",
     "text": [
      "MyClass constructor\n",
      "MyClass destructor\n"
     ]
    }
   ],
   "source": [
    "class MyClass:\n",
    "    def __init__(self):\n",
    "        print(\"MyClass constructor\")\n",
    "        \n",
    "    def __del__(self):\n",
    "        print(\"MyClass destructor\")\n",
    "\n",
    "def foo():\n",
    "    my_object = MyClass()\n",
    "\n",
    "foo()"
   ]
  },
  {
   "cell_type": "markdown",
   "metadata": {},
   "source": [
    "Наследование осуществляется следующим образом:"
   ]
  },
  {
   "cell_type": "code",
   "execution_count": 6,
   "metadata": {},
   "outputs": [
    {
     "name": "stdout",
     "output_type": "stream",
     "text": [
      "SuperClass constructor: x = 10\n",
      "SuperClass constructor: x = 20\n",
      "SubClass constructor: x = 20; y = 30\n"
     ]
    }
   ],
   "source": [
    "class SuperClass():\n",
    "    def __init__(self, x):\n",
    "        self.x = x\n",
    "        print(f\"SuperClass constructor: x = {self.x}\")\n",
    "\n",
    "class SubClass(SuperClass):\n",
    "    def __init__(self, x, y):\n",
    "        super(SubClass, self).__init__(x)\n",
    "        self.y = y\n",
    "        print(f\"SubClass constructor: x = {self.x}; y = {self.y}\")\n",
    "\n",
    "obj1 = SuperClass(10)\n",
    "\n",
    "obj2 = SubClass(20, 30)"
   ]
  },
  {
   "cell_type": "markdown",
   "metadata": {},
   "source": [
    "Как видно из этого примера, приведение дочернего класса к родительскому осуществляется вызовом функции *super*."
   ]
  },
  {
   "cell_type": "markdown",
   "metadata": {},
   "source": [
    "Все аттрибуты и методы в Python по-умолчанию являются публичными и нет ограничений на их вызов и получение доступа.\n",
    "\n",
    "По договорённости аттрибуты и методы, начинающиеся с \"\\_\" считаются приватными и относятся к реализации класса."
   ]
  },
  {
   "cell_type": "code",
   "execution_count": 7,
   "metadata": {},
   "outputs": [
    {
     "name": "stdout",
     "output_type": "stream",
     "text": [
      "MyClass constructor: arg = 10\n",
      "30\n"
     ]
    }
   ],
   "source": [
    "class MyClass:\n",
    "    def __init__(self, arg):\n",
    "        self._arg = arg\n",
    "        print(f\"MyClass constructor: arg = {self._arg}\")\n",
    "\n",
    "my_object = MyClass(10)\n",
    "\n",
    "# Так сделать можно, но разработчик класса показал, что прямая работа с аттрибутом _arg нежелательна.\n",
    "my_object._arg += 20\n",
    "print(my_object._arg)"
   ]
  },
  {
   "cell_type": "markdown",
   "metadata": {},
   "source": [
    "Для того, чтобы сделать аттрибут или метод действительно приватным, необходимо начать его с \"\\_\\_\". Такие аттрибуты и методы будут доступны только внутри методов класса, но не вне их."
   ]
  },
  {
   "cell_type": "code",
   "execution_count": 8,
   "metadata": {},
   "outputs": [
    {
     "name": "stdout",
     "output_type": "stream",
     "text": [
      "MyClass constructor: arg = 10\n",
      "10\n"
     ]
    },
    {
     "ename": "AttributeError",
     "evalue": "'MyClass' object has no attribute '__arg'",
     "output_type": "error",
     "traceback": [
      "\u001b[0;31m---------------------------------------------------------------------------\u001b[0m",
      "\u001b[0;31mAttributeError\u001b[0m                            Traceback (most recent call last)",
      "\u001b[0;32m<ipython-input-8-04bcd0c01fe7>\u001b[0m in \u001b[0;36m<module>\u001b[0;34m\u001b[0m\n\u001b[1;32m     13\u001b[0m \u001b[0;34m\u001b[0m\u001b[0m\n\u001b[1;32m     14\u001b[0m \u001b[0;31m# А так - нельзя:\u001b[0m\u001b[0;34m\u001b[0m\u001b[0;34m\u001b[0m\u001b[0;34m\u001b[0m\u001b[0m\n\u001b[0;32m---> 15\u001b[0;31m \u001b[0mprint\u001b[0m\u001b[0;34m(\u001b[0m\u001b[0mmy_object\u001b[0m\u001b[0;34m.\u001b[0m\u001b[0m__arg\u001b[0m\u001b[0;34m)\u001b[0m\u001b[0;34m\u001b[0m\u001b[0;34m\u001b[0m\u001b[0m\n\u001b[0m",
      "\u001b[0;31mAttributeError\u001b[0m: 'MyClass' object has no attribute '__arg'"
     ]
    }
   ],
   "source": [
    "class MyClass:\n",
    "    def __init__(self, arg):\n",
    "        self.__arg = arg\n",
    "        print(f\"MyClass constructor: arg = {self.__arg}\")\n",
    "    \n",
    "    def get_arg(self):\n",
    "        return self.__arg\n",
    "\n",
    "my_object = MyClass(10)\n",
    "\n",
    "# Так сделать можно:\n",
    "print(my_object.get_arg())\n",
    "\n",
    "# А так - нельзя:\n",
    "print(my_object.__arg)"
   ]
  },
  {
   "cell_type": "markdown",
   "metadata": {},
   "source": [
    "К другим часто встречаемым методам, имеющим специальное значение относятся:\n",
    "\n",
    "    __str__ - Приведение объекта к строке.\n",
    "    \n",
    "    __repr__ - Этот метод определяет \"отладочное\" представление объекта, получаемое функцией repr().\n",
    "    \n",
    "    __call__ - этот метод вызывается при обращении к объекту как к функции."
   ]
  },
  {
   "cell_type": "code",
   "execution_count": 9,
   "metadata": {},
   "outputs": [
    {
     "name": "stdout",
     "output_type": "stream",
     "text": [
      "MyClass constructor: arg = 10\n",
      "I am MyClass with argument 10\n"
     ]
    }
   ],
   "source": [
    "class MyClass:\n",
    "    def __init__(self, arg):\n",
    "        self.__arg = arg\n",
    "        print(f\"MyClass constructor: arg = {self.__arg}\")\n",
    "    \n",
    "    def __str__(self):\n",
    "        return f\"I am MyClass with argument {self.__arg}\"\n",
    "    \n",
    "    def __repr__(self):\n",
    "        return f\"MyClass debug output {self.__arg}\"\n",
    "    \n",
    "    def __call__(self, x):\n",
    "        print(f\"MyClass called as a function with parameter x = {x}\")\n",
    "\n",
    "my_object = MyClass(10)\n",
    "print(str(my_object))"
   ]
  },
  {
   "cell_type": "markdown",
   "metadata": {},
   "source": [
    "Вы можете видеть \"отладочный\" вывод, когда, например, просто вводите имя объекта в интерпретаторе:"
   ]
  },
  {
   "cell_type": "code",
   "execution_count": 10,
   "metadata": {},
   "outputs": [
    {
     "data": {
      "text/plain": [
       "MyClass debug output 10"
      ]
     },
     "execution_count": 10,
     "metadata": {},
     "output_type": "execute_result"
    }
   ],
   "source": [
    "my_object"
   ]
  },
  {
   "cell_type": "markdown",
   "metadata": {},
   "source": [
    "Пример вызова объекта как функции:"
   ]
  },
  {
   "cell_type": "code",
   "execution_count": 11,
   "metadata": {},
   "outputs": [
    {
     "name": "stdout",
     "output_type": "stream",
     "text": [
      "MyClass called as a function with parameter x = 100\n"
     ]
    }
   ],
   "source": [
    "my_object(100)"
   ]
  },
  {
   "cell_type": "markdown",
   "metadata": {},
   "source": [
    "# ООП - не \"серебряная пуля\".\n",
    "\n",
    "#### Не следует применять ООП в любой ситуации. Иногда, особенно для относительно простых программ, следует обратиться к другим парадигмам разработки ПО - например к классическому процедурному программированию.\n",
    "\n",
    "### Разработка с примерением ООП требует навыков разработки системной архитектуры и достаточно высокой квалификации программиста.\n",
    "\n",
    "![alt text](Python03-OOP_extra/meme1.png)\n",
    "Источник: https://www.reddit.com/r/ProgrammerHumor/comments/418x95/theory_vs_reality/"
   ]
  },
  {
   "cell_type": "code",
   "execution_count": null,
   "metadata": {},
   "outputs": [],
   "source": []
  }
 ],
 "metadata": {
  "kernelspec": {
   "display_name": "Python 3",
   "language": "python",
   "name": "python3"
  },
  "language_info": {
   "codemirror_mode": {
    "name": "ipython",
    "version": 3
   },
   "file_extension": ".py",
   "mimetype": "text/x-python",
   "name": "python",
   "nbconvert_exporter": "python",
   "pygments_lexer": "ipython3",
   "version": "3.7.4"
  }
 },
 "nbformat": 4,
 "nbformat_minor": 4
}
