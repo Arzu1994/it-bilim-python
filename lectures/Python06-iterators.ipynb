{
 "cells": [
  {
   "cell_type": "markdown",
   "metadata": {},
   "source": [
    "![alt text](Python06-iterators/logo.png) "
   ]
  },
  {
   "cell_type": "markdown",
   "metadata": {},
   "source": [
    "# Итераторы, генераторы, декораторы"
   ]
  },
  {
   "cell_type": "markdown",
   "metadata": {},
   "source": [
    "Тема непростая, будем слегка жертвовать формализмом и точностью в пользу понятности, а существование некотрых вещей вообще проигнорируем. Те из вас, кто захотят больше деталей и чётких формулировок найдут их в избытке в документации и интернете."
   ]
  },
  {
   "cell_type": "markdown",
   "metadata": {},
   "source": [
    "# Итераторы"
   ]
  },
  {
   "cell_type": "markdown",
   "metadata": {},
   "source": [
    "Давайте вспомним цикл for, который мы прошли во второй лекции (основы питона 2), и еще раз на него посмотрим"
   ]
  },
  {
   "cell_type": "code",
   "execution_count": 1,
   "metadata": {},
   "outputs": [
    {
     "name": "stdout",
     "output_type": "stream",
     "text": [
      "0\n",
      "1\n",
      "2\n",
      "3\n",
      "4\n"
     ]
    }
   ],
   "source": [
    "for var in range(5):\n",
    "    print (var)"
   ]
  },
  {
   "cell_type": "code",
   "execution_count": 2,
   "metadata": {},
   "outputs": [
    {
     "name": "stdout",
     "output_type": "stream",
     "text": [
      "H\n",
      "e\n",
      "l\n",
      "l\n",
      "o\n",
      " \n",
      "w\n",
      "o\n",
      "r\n",
      "l\n",
      "d\n"
     ]
    }
   ],
   "source": [
    "for letter in 'Hello world':\n",
    "    print (letter)"
   ]
  },
  {
   "cell_type": "code",
   "execution_count": 3,
   "metadata": {},
   "outputs": [
    {
     "name": "stdout",
     "output_type": "stream",
     "text": [
      "Name\n",
      "Age\n",
      "Gender\n"
     ]
    }
   ],
   "source": [
    "for key in {'Name':'John', \n",
    "            'Age':15, \n",
    "            'Gender':'Male', \n",
    "           }:\n",
    "    print (key)"
   ]
  },
  {
   "cell_type": "code",
   "execution_count": 4,
   "metadata": {},
   "outputs": [
    {
     "name": "stdout",
     "output_type": "stream",
     "text": [
      "Today we will have an outstanding topic!\n",
      "\n",
      "Iterators are amazing!!\n",
      "\n",
      "You'll love it!!\n",
      "\n"
     ]
    }
   ],
   "source": [
    "for line in open('Python06-iterators/motivation.txt', 'r'):\n",
    "    print (line)"
   ]
  },
  {
   "cell_type": "code",
   "execution_count": 5,
   "metadata": {},
   "outputs": [
    {
     "name": "stdout",
     "output_type": "stream",
     "text": [
      "0\n",
      "1\n",
      "2\n",
      "3\n",
      "4\n",
      "5\n"
     ]
    }
   ],
   "source": [
    "for element in [0,1,2,3,4,5]:\n",
    "    print (element)"
   ]
  },
  {
   "cell_type": "markdown",
   "metadata": {},
   "source": [
    "То есть мы что, можем идти циклом по любому объекту? А это вообще законно?\n",
    "\n",
    "Давайте разбираться, как мы помним из третьей лекции (ООП) - все объекты являются классами. Рассмотрим их методы"
   ]
  },
  {
   "cell_type": "code",
   "execution_count": 6,
   "metadata": {},
   "outputs": [
    {
     "data": {
      "text/plain": [
       "['__bool__',\n",
       " '__class__',\n",
       " '__contains__',\n",
       " '__delattr__',\n",
       " '__dir__',\n",
       " '__doc__',\n",
       " '__eq__',\n",
       " '__format__',\n",
       " '__ge__',\n",
       " '__getattribute__',\n",
       " '__getitem__',\n",
       " '__gt__',\n",
       " '__hash__',\n",
       " '__init__',\n",
       " '__init_subclass__',\n",
       " '__iter__',\n",
       " '__le__',\n",
       " '__len__',\n",
       " '__lt__',\n",
       " '__ne__',\n",
       " '__new__',\n",
       " '__reduce__',\n",
       " '__reduce_ex__',\n",
       " '__repr__',\n",
       " '__reversed__',\n",
       " '__setattr__',\n",
       " '__sizeof__',\n",
       " '__str__',\n",
       " '__subclasshook__',\n",
       " 'count',\n",
       " 'index',\n",
       " 'start',\n",
       " 'step',\n",
       " 'stop']"
      ]
     },
     "execution_count": 6,
     "metadata": {},
     "output_type": "execute_result"
    }
   ],
   "source": [
    "dir(range(5))"
   ]
  },
  {
   "cell_type": "code",
   "execution_count": 7,
   "metadata": {},
   "outputs": [
    {
     "data": {
      "text/plain": [
       "['__class__',\n",
       " '__contains__',\n",
       " '__delattr__',\n",
       " '__delitem__',\n",
       " '__dir__',\n",
       " '__doc__',\n",
       " '__eq__',\n",
       " '__format__',\n",
       " '__ge__',\n",
       " '__getattribute__',\n",
       " '__getitem__',\n",
       " '__gt__',\n",
       " '__hash__',\n",
       " '__init__',\n",
       " '__init_subclass__',\n",
       " '__iter__',\n",
       " '__le__',\n",
       " '__len__',\n",
       " '__lt__',\n",
       " '__ne__',\n",
       " '__new__',\n",
       " '__reduce__',\n",
       " '__reduce_ex__',\n",
       " '__repr__',\n",
       " '__setattr__',\n",
       " '__setitem__',\n",
       " '__sizeof__',\n",
       " '__str__',\n",
       " '__subclasshook__',\n",
       " 'clear',\n",
       " 'copy',\n",
       " 'fromkeys',\n",
       " 'get',\n",
       " 'items',\n",
       " 'keys',\n",
       " 'pop',\n",
       " 'popitem',\n",
       " 'setdefault',\n",
       " 'update',\n",
       " 'values']"
      ]
     },
     "execution_count": 7,
     "metadata": {},
     "output_type": "execute_result"
    }
   ],
   "source": [
    "dir({'Name':'John', \n",
    "            'Age':15, \n",
    "            'Gender':'Male', \n",
    "           })"
   ]
  },
  {
   "cell_type": "markdown",
   "metadata": {},
   "source": [
    "Метод  *\\_\\_iter*\\_\\_  возвращает итератор для заданного объекта. ![alt text](Python06-iterators/iterator.jpg) \n",
    "\n",
    "Итератор - это такой объект, который имплементирует протокол итерирования. Если сказать попроще, то итератор помнит текущее состояние и знает как выбирать следующий элемент объекта, над которым он построен."
   ]
  },
  {
   "cell_type": "code",
   "execution_count": 8,
   "metadata": {},
   "outputs": [
    {
     "name": "stdout",
     "output_type": "stream",
     "text": [
      "<list_iterator object at 0x7fbf70520690>\n"
     ]
    }
   ],
   "source": [
    "a = [0,1,2,3,4,5,6,7,8,9]\n",
    "my_iter = iter(a)\n",
    "print(my_iter)"
   ]
  },
  {
   "cell_type": "markdown",
   "metadata": {},
   "source": [
    "Метод *\\_\\_next*\\_\\_ возвращает объект соответствующий текущему состоянию итератора и переходит к следующему, согласно заданному алгоритму (в тривиальном случае - k+1й объект). Делать это можно до тех пор, пока не получим ислючение **StopIteration**"
   ]
  },
  {
   "cell_type": "code",
   "execution_count": 9,
   "metadata": {},
   "outputs": [
    {
     "name": "stdout",
     "output_type": "stream",
     "text": [
      "0\n"
     ]
    }
   ],
   "source": [
    "print(my_iter.__next__()) # Выглядит жутковато"
   ]
  },
  {
   "cell_type": "code",
   "execution_count": 10,
   "metadata": {},
   "outputs": [
    {
     "name": "stdout",
     "output_type": "stream",
     "text": [
      "1\n"
     ]
    }
   ],
   "source": [
    "print(next(my_iter)) # Вроде как-то попривычнее"
   ]
  },
  {
   "cell_type": "code",
   "execution_count": 11,
   "metadata": {},
   "outputs": [
    {
     "data": {
      "text/plain": [
       "2"
      ]
     },
     "execution_count": 11,
     "metadata": {},
     "output_type": "execute_result"
    }
   ],
   "source": [
    "# Будем делать так, чтобы уменьшить синтаксическую нагрузку\n",
    "next(my_iter) "
   ]
  },
  {
   "cell_type": "markdown",
   "metadata": {},
   "source": [
    "Важное свойство итератора - он не хранит объект в памяти. "
   ]
  },
  {
   "cell_type": "code",
   "execution_count": 12,
   "metadata": {},
   "outputs": [
    {
     "name": "stdout",
     "output_type": "stream",
     "text": [
      "0\n",
      "1\n"
     ]
    }
   ],
   "source": [
    "my_object = [0,1,2,3,4,5,6,7,8,9]\n",
    "my_iter = iter(my_object)\n",
    "print(next(my_iter))\n",
    "print(next(my_iter))"
   ]
  },
  {
   "cell_type": "code",
   "execution_count": 13,
   "metadata": {},
   "outputs": [],
   "source": [
    "# Подменим объект не трогая итератор\n",
    "my_object[2] = 'let put a string here'\n",
    "my_object[3] = 'iterator does not care'"
   ]
  },
  {
   "cell_type": "code",
   "execution_count": 14,
   "metadata": {},
   "outputs": [
    {
     "name": "stdout",
     "output_type": "stream",
     "text": [
      "let put a string here\n"
     ]
    }
   ],
   "source": [
    "print(next(my_iter))"
   ]
  },
  {
   "cell_type": "markdown",
   "metadata": {},
   "source": [
    "Метод  *\\_\\_iter*\\_\\_ может возвращать self (т.е. себя), то есть итератор от итератора - тоже итератор, причём тот же самый. ![alt text](Python06-iterators/more_iterators.jpg) "
   ]
  },
  {
   "cell_type": "code",
   "execution_count": 15,
   "metadata": {},
   "outputs": [],
   "source": [
    "a = [0,1,2,3,4,5]\n",
    "my_iter = iter(iter(a))"
   ]
  },
  {
   "cell_type": "code",
   "execution_count": 16,
   "metadata": {},
   "outputs": [
    {
     "data": {
      "text/plain": [
       "0"
      ]
     },
     "execution_count": 16,
     "metadata": {},
     "output_type": "execute_result"
    }
   ],
   "source": [
    "next(my_iter)"
   ]
  },
  {
   "cell_type": "markdown",
   "metadata": {},
   "source": [
    "Если быть достаточно наблюдательным, то можно заметить, что метод *\\_\\_next*\\_\\_ отсутствует у наших исходных объектов. Однако он появляется когда мы делаем из него итератор"
   ]
  },
  {
   "cell_type": "code",
   "execution_count": 17,
   "metadata": {},
   "outputs": [
    {
     "data": {
      "text/plain": [
       "['__add__',\n",
       " '__class__',\n",
       " '__contains__',\n",
       " '__delattr__',\n",
       " '__delitem__',\n",
       " '__dir__',\n",
       " '__doc__',\n",
       " '__eq__',\n",
       " '__format__',\n",
       " '__ge__',\n",
       " '__getattribute__',\n",
       " '__getitem__',\n",
       " '__gt__',\n",
       " '__hash__',\n",
       " '__iadd__',\n",
       " '__imul__',\n",
       " '__init__',\n",
       " '__init_subclass__',\n",
       " '__iter__',\n",
       " '__le__',\n",
       " '__len__',\n",
       " '__lt__',\n",
       " '__mul__',\n",
       " '__ne__',\n",
       " '__new__',\n",
       " '__reduce__',\n",
       " '__reduce_ex__',\n",
       " '__repr__',\n",
       " '__reversed__',\n",
       " '__rmul__',\n",
       " '__setattr__',\n",
       " '__setitem__',\n",
       " '__sizeof__',\n",
       " '__str__',\n",
       " '__subclasshook__',\n",
       " 'append',\n",
       " 'clear',\n",
       " 'copy',\n",
       " 'count',\n",
       " 'extend',\n",
       " 'index',\n",
       " 'insert',\n",
       " 'pop',\n",
       " 'remove',\n",
       " 'reverse',\n",
       " 'sort']"
      ]
     },
     "execution_count": 17,
     "metadata": {},
     "output_type": "execute_result"
    }
   ],
   "source": [
    "dir(a)"
   ]
  },
  {
   "cell_type": "code",
   "execution_count": 18,
   "metadata": {},
   "outputs": [
    {
     "data": {
      "text/plain": [
       "['__class__',\n",
       " '__delattr__',\n",
       " '__dir__',\n",
       " '__doc__',\n",
       " '__eq__',\n",
       " '__format__',\n",
       " '__ge__',\n",
       " '__getattribute__',\n",
       " '__gt__',\n",
       " '__hash__',\n",
       " '__init__',\n",
       " '__init_subclass__',\n",
       " '__iter__',\n",
       " '__le__',\n",
       " '__length_hint__',\n",
       " '__lt__',\n",
       " '__ne__',\n",
       " '__new__',\n",
       " '__next__',\n",
       " '__reduce__',\n",
       " '__reduce_ex__',\n",
       " '__repr__',\n",
       " '__setattr__',\n",
       " '__setstate__',\n",
       " '__sizeof__',\n",
       " '__str__',\n",
       " '__subclasshook__']"
      ]
     },
     "execution_count": 18,
     "metadata": {},
     "output_type": "execute_result"
    }
   ],
   "source": [
    "dir(iter(a))"
   ]
  },
  {
   "cell_type": "code",
   "execution_count": 19,
   "metadata": {},
   "outputs": [
    {
     "name": "stdout",
     "output_type": "stream",
     "text": [
      "iterable\n"
     ]
    }
   ],
   "source": [
    "# Как проверить объект на итерируемость\n",
    "my_object = [1,2,3]\n",
    "#my_object = 2\n",
    "#my_object = 'hello'\n",
    "try:\n",
    "    iter(my_object)\n",
    "except TypeError:\n",
    "    print('not iterable')\n",
    "else:\n",
    "    print('iterable')"
   ]
  },
  {
   "cell_type": "markdown",
   "metadata": {},
   "source": [
    "Заметим, что итерироваться по объекту можно не только при помощи iter и next, но ещё и иначе, посредством метода *\\_\\_getitem*\\_\\_. Мы не будем его подробно рассматривать, отметим только что в отличии от iter который хранит состояние внутри итератора, getitem его не хранит, принимая его снаружи, со всеми вытекающими достоинствами и недостатками. Раньше это был основной протокол итерирования (в python<2.4), теперь, видимо, можно считать его устаревшим, но всё еще используемым."
   ]
  },
  {
   "cell_type": "code",
   "execution_count": 20,
   "metadata": {},
   "outputs": [
    {
     "name": "stdout",
     "output_type": "stream",
     "text": [
      "15\n"
     ]
    }
   ],
   "source": [
    "a = [12,13,14,15,16,17]\n",
    "b = a.__getitem__(3)\n",
    "print(b)"
   ]
  },
  {
   "cell_type": "markdown",
   "metadata": {},
   "source": [
    "Давайте рассмотрим **range**, это даст нам новый взгляд на итераторы. Допустим, нам надо проитерироваться по какому-то очень большому циклу. Втупую, для этого пришлось бы записать всю последовательность элементов в память, создать итератор, и идти от предыдущего к следующему много раз. Но держать в памяти этот огромный объект не слишком-то хотелось бы. Тут нас и выручают итераторы, которые не держат в памяти объект, а знают только своё текущее состояние и закон по которому выбираем следующий элемент."
   ]
  },
  {
   "cell_type": "code",
   "execution_count": 21,
   "metadata": {},
   "outputs": [
    {
     "data": {
      "text/plain": [
       "range(0, 5)"
      ]
     },
     "execution_count": 21,
     "metadata": {},
     "output_type": "execute_result"
    }
   ],
   "source": [
    "range(5) # range не существует в каком-то полном запомненном виде"
   ]
  },
  {
   "cell_type": "code",
   "execution_count": 22,
   "metadata": {},
   "outputs": [
    {
     "ename": "TypeError",
     "evalue": "'range' object is not an iterator",
     "output_type": "error",
     "traceback": [
      "\u001b[0;31m---------------------------------------------------------------------------\u001b[0m",
      "\u001b[0;31mTypeError\u001b[0m                                 Traceback (most recent call last)",
      "\u001b[0;32m<ipython-input-22-82e8f782b769>\u001b[0m in \u001b[0;36m<module>\u001b[0;34m\u001b[0m\n\u001b[1;32m      1\u001b[0m \u001b[0ma\u001b[0m \u001b[0;34m=\u001b[0m \u001b[0mrange\u001b[0m\u001b[0;34m(\u001b[0m\u001b[0;36m5\u001b[0m\u001b[0;34m)\u001b[0m\u001b[0;34m\u001b[0m\u001b[0;34m\u001b[0m\u001b[0m\n\u001b[1;32m      2\u001b[0m \u001b[0;31m# Но range на самом деле не итератор, это итерируемый объект\u001b[0m\u001b[0;34m\u001b[0m\u001b[0;34m\u001b[0m\u001b[0;34m\u001b[0m\u001b[0m\n\u001b[0;32m----> 3\u001b[0;31m \u001b[0mnext\u001b[0m\u001b[0;34m(\u001b[0m\u001b[0ma\u001b[0m\u001b[0;34m)\u001b[0m\u001b[0;34m\u001b[0m\u001b[0;34m\u001b[0m\u001b[0m\n\u001b[0m",
      "\u001b[0;31mTypeError\u001b[0m: 'range' object is not an iterator"
     ]
    }
   ],
   "source": [
    "a = range(5)\n",
    "# Но range на самом деле не итератор, это итерируемый объект\n",
    "next(a)"
   ]
  },
  {
   "cell_type": "code",
   "execution_count": 23,
   "metadata": {},
   "outputs": [],
   "source": [
    "b = iter(range(5)) # А вот это - итератор по range"
   ]
  },
  {
   "cell_type": "code",
   "execution_count": 24,
   "metadata": {},
   "outputs": [
    {
     "data": {
      "text/plain": [
       "0"
      ]
     },
     "execution_count": 24,
     "metadata": {},
     "output_type": "execute_result"
    }
   ],
   "source": [
    "next(b)"
   ]
  },
  {
   "cell_type": "code",
   "execution_count": 25,
   "metadata": {},
   "outputs": [
    {
     "data": {
      "text/plain": [
       "<range_iterator at 0x7fbf7051fcf0>"
      ]
     },
     "execution_count": 25,
     "metadata": {},
     "output_type": "execute_result"
    }
   ],
   "source": [
    "# Давайте проверим, а вдруг теперь когда мы сделали из range итератор, там всё же записали весь объект\n",
    "iter(range(5))"
   ]
  },
  {
   "cell_type": "markdown",
   "metadata": {},
   "source": [
    "Ну, раз уж мы знаем ООП, давайте напишем свой класс с итератором. Это поможет нам лучше понять на что надо обращать внимание и как вообще их писать "
   ]
  },
  {
   "cell_type": "code",
   "execution_count": 26,
   "metadata": {},
   "outputs": [],
   "source": [
    "class NaiveRange():\n",
    "    def __init__(self, start, end):\n",
    "        self.end = end\n",
    "        self.ind = start\n",
    "        \n",
    "    def __iter__(self):\n",
    "        return self\n",
    "    \n",
    "    def __next__(self):\n",
    "        if self.ind >= self.end:\n",
    "            raise StopIteration\n",
    "        self.ind += 1\n",
    "        return (self.ind - 1)"
   ]
  },
  {
   "cell_type": "code",
   "execution_count": 27,
   "metadata": {},
   "outputs": [],
   "source": [
    "a = NaiveRange(3,9)"
   ]
  },
  {
   "cell_type": "code",
   "execution_count": 28,
   "metadata": {},
   "outputs": [
    {
     "data": {
      "text/plain": [
       "[3, 4, 5, 6, 7, 8]"
      ]
     },
     "execution_count": 28,
     "metadata": {},
     "output_type": "execute_result"
    }
   ],
   "source": [
    "list(a)"
   ]
  },
  {
   "cell_type": "code",
   "execution_count": 29,
   "metadata": {},
   "outputs": [
    {
     "data": {
      "text/plain": [
       "[]"
      ]
     },
     "execution_count": 29,
     "metadata": {},
     "output_type": "execute_result"
    }
   ],
   "source": [
    "list(a)"
   ]
  },
  {
   "cell_type": "markdown",
   "metadata": {},
   "source": [
    "Дело в том, что архитектура нашего класса не позволяет индексу вернуться к исходному состоянию без ре-инициализации, он запомнен и с этим ничего не поделать. Такая итерация называется **исчерпаемой**. Пример: итерация по файлу. Мы можем его открыть и по мере прочтения достигнем конца. Конечно есть всякие трюки, но базово мы можем прочитать файл только раз, далее должны открыть его заново (и ре-инициализировать итератор).\n",
    "\n",
    "Давайте теперь построим неисчераемый итератор."
   ]
  },
  {
   "cell_type": "code",
   "execution_count": 30,
   "metadata": {},
   "outputs": [],
   "source": [
    "class BaseIter(object):\n",
    "    def __init__(self, start, end):\n",
    "        self.end = end\n",
    "        self.ind = start\n",
    "        \n",
    "    def __next__(self):\n",
    "        if self.ind == self.end:\n",
    "            raise StopIteration\n",
    "        self.ind += 1\n",
    "        return (self.ind -1)\n",
    "    \n",
    "    \n",
    "class AdvancedRange(object):\n",
    "    def __init__(self, start, end):\n",
    "        self.end = end\n",
    "        self.start = start\n",
    "    def __iter__(self):\n",
    "        return BaseIter(self.start, self.end)"
   ]
  },
  {
   "cell_type": "code",
   "execution_count": 31,
   "metadata": {},
   "outputs": [],
   "source": [
    "a = AdvancedRange(3,9)"
   ]
  },
  {
   "cell_type": "code",
   "execution_count": 32,
   "metadata": {},
   "outputs": [
    {
     "data": {
      "text/plain": [
       "[3, 4, 5, 6, 7, 8]"
      ]
     },
     "execution_count": 32,
     "metadata": {},
     "output_type": "execute_result"
    }
   ],
   "source": [
    "list(a)"
   ]
  },
  {
   "cell_type": "code",
   "execution_count": 33,
   "metadata": {},
   "outputs": [
    {
     "data": {
      "text/plain": [
       "[3, 4, 5, 6, 7, 8]"
      ]
     },
     "execution_count": 33,
     "metadata": {},
     "output_type": "execute_result"
    }
   ],
   "source": [
    "list(a)"
   ]
  },
  {
   "cell_type": "markdown",
   "metadata": {},
   "source": [
    "Теперь, при вызове итератора, мы создаем объект класса BaseIter и можем так делать сколько угодно раз, и каждый из них будет держать в своей памяти своё состояние, не мешая остальным итерироваться. Это, соответственно, **неисчерпаемая** итерация. Пример: список, словарь."
   ]
  },
  {
   "cell_type": "markdown",
   "metadata": {},
   "source": [
    "Теперь, с учётом полученных сведений, давайте вернёмся к тому с чего начинали, к циклу *for*"
   ]
  },
  {
   "cell_type": "markdown",
   "metadata": {},
   "source": [
    "```python\n",
    "some_iter = iter(some_object)\n",
    "while True:    \n",
    "    try:        \n",
    "        some_value = next(some_iter)        \n",
    "    except StopIteration:        \n",
    "        break        \n",
    "    do_smth(some_value)\n",
    "```"
   ]
  },
  {
   "cell_type": "markdown",
   "metadata": {},
   "source": [
    "# Генераторы"
   ]
  },
  {
   "cell_type": "markdown",
   "metadata": {},
   "source": [
    "Идея следующая. Сделаем такую функцию, которая будет по какому-то входному параметру создавать итераторы. Ключевой является команда **yield**, которая работает примерно как *return* только при следующем обращении проход по телу будет осуществляться не с начала, а с места где мы закончили. Разберём пару примеров и станет ясно зачем это всё надо. \n",
    "![alt text](Python06-iterators/iter_vs_gen.svg)"
   ]
  },
  {
   "cell_type": "code",
   "execution_count": 34,
   "metadata": {},
   "outputs": [],
   "source": [
    "def my_first_genertor(var):\n",
    "    yield 'first launch'\n",
    "    yield 'second launch'\n",
    "    some_result = var*3+2\n",
    "    yield some_result\n",
    "    yield 'last launch'\n",
    "    print ('Done, no more yields, only an exception - StopIteration')"
   ]
  },
  {
   "cell_type": "code",
   "execution_count": 35,
   "metadata": {},
   "outputs": [],
   "source": [
    "gen = my_first_genertor(2)\n",
    "#list(gen)"
   ]
  },
  {
   "cell_type": "code",
   "execution_count": 36,
   "metadata": {},
   "outputs": [
    {
     "data": {
      "text/plain": [
       "'first launch'"
      ]
     },
     "execution_count": 36,
     "metadata": {},
     "output_type": "execute_result"
    }
   ],
   "source": [
    "next(gen)"
   ]
  },
  {
   "cell_type": "markdown",
   "metadata": {},
   "source": [
    "Далее, сколько бы мы не вызывали, если не ре-инициализировать генератор, то он больше ничего не выдаст. Генератор **исчерпался**. \n",
    "\n",
    "**Return** же в свою очередь в генераторе не работает как обычно, а работает исключительно как *StopIteration*. Если return не написать, то он подразумевается в конце."
   ]
  },
  {
   "cell_type": "code",
   "execution_count": 37,
   "metadata": {},
   "outputs": [],
   "source": [
    "def my_second_genertor(var):\n",
    "    yield 'first launch'\n",
    "    return 'second launch' # Заменим yield на return\n",
    "    some_result = var*3+2\n",
    "    yield some_result\n",
    "    yield 'last launch'\n",
    "    print ('Done, no more yields, only an exception - StopIteration')"
   ]
  },
  {
   "cell_type": "code",
   "execution_count": 38,
   "metadata": {},
   "outputs": [],
   "source": [
    "gen = my_second_genertor(2)\n",
    "#list(gen)"
   ]
  },
  {
   "cell_type": "code",
   "execution_count": 39,
   "metadata": {},
   "outputs": [
    {
     "data": {
      "text/plain": [
       "'first launch'"
      ]
     },
     "execution_count": 39,
     "metadata": {},
     "output_type": "execute_result"
    }
   ],
   "source": [
    "next(gen)"
   ]
  },
  {
   "cell_type": "markdown",
   "metadata": {},
   "source": [
    "Заметим, что запустив повторно мы больше не переходим к следующему yield. Генератор исчерпался по исключению, не зависимо от того есть ли там ещё yield. "
   ]
  },
  {
   "cell_type": "markdown",
   "metadata": {},
   "source": [
    "**Важное замечание** Кроме описанного обычного завершения, стандартные генераторы можно завершить снаружи при помощи метода close. Этот метод вызывается, в том числе, принудительной остановкой и работает через исключение *GeneratorExit*. При самостоятельной реализации метода close, надо учитывать, что **GeneratorExit не отлавливается как базовое исключение**, и если не прописать его в явном виде при имплементации своего генератора, то есть шанс утратить возможность принудительной остановки, и никакие *Ctrl+C* не отработают. Уже после принудительной остановки, дальнейшие вызовы также получат *StopIteration*."
   ]
  },
  {
   "cell_type": "markdown",
   "metadata": {},
   "source": [
    "Выглядеть должно как-то так. Выглядит усложненным, но это близко к настоящей реализации.\n",
    "```python\n",
    "def safe_gen():\n",
    "    closed = False\n",
    "    try:\n",
    "        yield 'check '\n",
    "    except GeneratorExit:\n",
    "        print('exit!')\n",
    "        closed = True\n",
    "        raise StopIteration\n",
    "    finally:\n",
    "        if not closed:\n",
    "            print('worked!')\n",
    "\n",
    "```"
   ]
  },
  {
   "cell_type": "markdown",
   "metadata": {},
   "source": [
    "Зачем же нам всё это может нам понадобиться? Давайте вспомним одну классную *штуку* которую мы видели на второй лекции"
   ]
  },
  {
   "cell_type": "code",
   "execution_count": 41,
   "metadata": {},
   "outputs": [
    {
     "name": "stdout",
     "output_type": "stream",
     "text": [
      "0 zero\n",
      "1 one\n",
      "2 two\n",
      "3 three\n",
      "4 four\n"
     ]
    }
   ],
   "source": [
    "nums = ['zero', 'one', 'two', 'three', 'four']\n",
    "for index, number in enumerate(nums):\n",
    "    print(index, number)"
   ]
  },
  {
   "cell_type": "markdown",
   "metadata": {},
   "source": [
    "**Enumerate** при итерации по объекту присваивает порядковые номера объектам, очень удобно и рекомендуется к использованию. *Enumerate* ни что иное как генератор, и может быть записано следующим образом"
   ]
  },
  {
   "cell_type": "code",
   "execution_count": 42,
   "metadata": {},
   "outputs": [],
   "source": [
    "def my_enumerate(iterable_object):\n",
    "    ind = 0\n",
    "    for smth in iterable_object:\n",
    "        yield ind, smth\n",
    "        ind += 1"
   ]
  },
  {
   "cell_type": "code",
   "execution_count": 43,
   "metadata": {},
   "outputs": [
    {
     "name": "stdout",
     "output_type": "stream",
     "text": [
      "0 zero\n",
      "1 one\n",
      "2 two\n",
      "3 three\n",
      "4 four\n"
     ]
    }
   ],
   "source": [
    "for index, number in my_enumerate(nums):\n",
    "    print(index, number)"
   ]
  },
  {
   "cell_type": "markdown",
   "metadata": {},
   "source": [
    "Когда встречаешь что-то такое первый раз, то невольно возникает мысль \"Ну написали цикл в функции, и зачем это всё? Я и сам могу цикл написать и безо всяких генераторов\". Однако, стоит обратить внимание на то, что генератор не держит в памяти полностью записанный объект, вместо этого просто обращается к методу *next*, и это очень важно."
   ]
  },
  {
   "cell_type": "code",
   "execution_count": 44,
   "metadata": {},
   "outputs": [
    {
     "name": "stdout",
     "output_type": "stream",
     "text": [
      "<generator object my_enumerate at 0x7fbf70463c50>\n"
     ]
    }
   ],
   "source": [
    "print(my_enumerate(nums))"
   ]
  },
  {
   "cell_type": "markdown",
   "metadata": {},
   "source": [
    "Давайте рассмотрим ещё несколько генераторов"
   ]
  },
  {
   "cell_type": "code",
   "execution_count": 45,
   "metadata": {},
   "outputs": [
    {
     "name": "stdout",
     "output_type": "stream",
     "text": [
      "['zerozero', 'oneone', 'twotwo', 'threethree', 'fourfour']\n"
     ]
    }
   ],
   "source": [
    "# map(func, smth_iterable) применяет к каждом элементу функцию func\n",
    "double = map(lambda x: x + x, nums) \n",
    "print(list(double))"
   ]
  },
  {
   "cell_type": "code",
   "execution_count": 46,
   "metadata": {},
   "outputs": [],
   "source": [
    "# Потренируемся, сделаем свой map\n",
    "def my_map(func, iterable_object):\n",
    "    for smth in iterable_object:\n",
    "        yield func(smth)"
   ]
  },
  {
   "cell_type": "code",
   "execution_count": 47,
   "metadata": {},
   "outputs": [
    {
     "name": "stdout",
     "output_type": "stream",
     "text": [
      "['zerozero', 'oneone', 'twotwo', 'threethree', 'fourfour']\n"
     ]
    }
   ],
   "source": [
    "my_double = my_map(lambda x: x + x, nums) \n",
    "print(list(my_double))"
   ]
  },
  {
   "cell_type": "code",
   "execution_count": 48,
   "metadata": {},
   "outputs": [
    {
     "name": "stdout",
     "output_type": "stream",
     "text": [
      "['zero', 'three', 'four']\n"
     ]
    }
   ],
   "source": [
    "# filter(cond, smth_iterable) применяет к каждому элементу проверку по условию cond и отфильтровывает\n",
    "len_filter = filter(lambda x: len(x) > 3, nums)\n",
    "print(list(len_filter))"
   ]
  },
  {
   "cell_type": "code",
   "execution_count": 49,
   "metadata": {},
   "outputs": [],
   "source": [
    "# Cделаем свой filter\n",
    "def my_filter(condition, iterable_object):\n",
    "    for smth in iterable_object:\n",
    "        if condition(smth):\n",
    "            yield smth"
   ]
  },
  {
   "cell_type": "code",
   "execution_count": 50,
   "metadata": {},
   "outputs": [
    {
     "name": "stdout",
     "output_type": "stream",
     "text": [
      "['zero', 'three', 'four']\n"
     ]
    }
   ],
   "source": [
    "# filter(cond, smth_iterable) применяет к каждому элементу проверку по условию cond и отфильтровывает\n",
    "my_len_filter = my_filter(lambda x: len(x) > 3, nums)\n",
    "print(list(my_len_filter))"
   ]
  },
  {
   "cell_type": "markdown",
   "metadata": {},
   "source": [
    "Есть множество полезных генераторов, которые пока ещё не впилили в основной питон (но судя по логам версий - этим занимаются): count, repeat, cycle, chain и другие. Их можно найти в пакете itertools. Давайте посмотрим."
   ]
  },
  {
   "cell_type": "code",
   "execution_count": 51,
   "metadata": {},
   "outputs": [],
   "source": [
    "from itertools import repeat\n",
    "# Повторяет то что ему дали"
   ]
  },
  {
   "cell_type": "code",
   "execution_count": null,
   "metadata": {},
   "outputs": [],
   "source": [
    "for var in repeat(5):\n",
    "    print(var)"
   ]
  },
  {
   "cell_type": "code",
   "execution_count": 52,
   "metadata": {},
   "outputs": [],
   "source": [
    "from itertools import chain\n",
    "# \"Раскрывает\" итерируемые объекты и делает из них один. Но делает это только на 1 уровень в \"глубину\""
   ]
  },
  {
   "cell_type": "code",
   "execution_count": 53,
   "metadata": {},
   "outputs": [
    {
     "data": {
      "text/plain": [
       "['A', 'B', 1, 2, 3, None, 'a', ' ', 's', 't', 'r', 'i', 'n', 'g', 4, 5, 6]"
      ]
     },
     "execution_count": 53,
     "metadata": {},
     "output_type": "execute_result"
    }
   ],
   "source": [
    "list(chain('A', 'B', [1, 2, 3, None], 'a string', range(4,7)))"
   ]
  },
  {
   "cell_type": "code",
   "execution_count": 54,
   "metadata": {},
   "outputs": [
    {
     "data": {
      "text/plain": [
       "['A', 'B', 1, 2, 3, 'a string', None, range(4, 7)]"
      ]
     },
     "execution_count": 54,
     "metadata": {},
     "output_type": "execute_result"
    }
   ],
   "source": [
    "list(chain('A', 'B', [1, 2, 3, 'a string', None], [range(4,7)]))"
   ]
  },
  {
   "cell_type": "code",
   "execution_count": null,
   "metadata": {},
   "outputs": [],
   "source": [
    "from itertools import count\n",
    "# Принимает начальное состояние и шаг и делает с ними бесконечный цикл"
   ]
  },
  {
   "cell_type": "code",
   "execution_count": null,
   "metadata": {},
   "outputs": [],
   "source": [
    "for i in count(0,3):\n",
    "    print(i)"
   ]
  },
  {
   "cell_type": "markdown",
   "metadata": {},
   "source": [
    "Давайте еще рассмотрим такой пример. Допустим у нас есть объект, и мы хотим его перегруппировать в процессе итерации. "
   ]
  },
  {
   "cell_type": "code",
   "execution_count": 55,
   "metadata": {},
   "outputs": [
    {
     "name": "stdout",
     "output_type": "stream",
     "text": [
      "[(0, 1, 2), ('zero', 'one', 'two'), ('A', 'B', 'C')]\n"
     ]
    }
   ],
   "source": [
    "my_object = [0, 1, 2, 'zero', 'one', 'two', 'A', 'B', 'C']\n",
    "my_iter = iter(my_object)\n",
    "print(list(zip(my_iter, my_iter, my_iter)))"
   ]
  },
  {
   "cell_type": "markdown",
   "metadata": {},
   "source": [
    "### Выражения-генераторы"
   ]
  },
  {
   "cell_type": "markdown",
   "metadata": {},
   "source": [
    "Стандарт Pep-289 даёт нам подробные инструкции как надо записывать и вообще как пользоваться выражениями-генераторами https://www.python.org/dev/peps/pep-0289/ \n",
    "Например,"
   ]
  },
  {
   "cell_type": "code",
   "execution_count": 56,
   "metadata": {},
   "outputs": [],
   "source": [
    "def gen(exp):\n",
    "    for x in exp:\n",
    "        yield x**2\n",
    "g = gen(iter(range(10)))\n",
    "\n",
    "# Эквивалентно\n",
    "g = (x**2 for x in range(10))"
   ]
  },
  {
   "cell_type": "markdown",
   "metadata": {},
   "source": [
    "Это удобно краткой записью в одну строку, при этом это не просто выражение, а генератор, со всеми вытекающими преимуществами и свойствами, которые мы ранее изучили. "
   ]
  },
  {
   "cell_type": "markdown",
   "metadata": {},
   "source": [
    "**Расширим функциональность генератора**. Теперь мы хотим не только получать из него следующий элемент по команде, но и как-то более явно в этом участвовать, например посылать в него данные, чтобы получать другие данные. Для этого Используем команду **send**, а принимать данные будем при помощи всё того же *yield*, но немного иначе."
   ]
  },
  {
   "cell_type": "code",
   "execution_count": 57,
   "metadata": {},
   "outputs": [],
   "source": [
    "def gen():\n",
    "    for i in range(10):\n",
    "        x = yield \n",
    "        print(i + x)"
   ]
  },
  {
   "cell_type": "code",
   "execution_count": 58,
   "metadata": {},
   "outputs": [],
   "source": [
    "G = gen()\n",
    "next(G)"
   ]
  },
  {
   "cell_type": "code",
   "execution_count": 59,
   "metadata": {},
   "outputs": [
    {
     "name": "stdout",
     "output_type": "stream",
     "text": [
      "85\n"
     ]
    }
   ],
   "source": [
    "G.send(85)"
   ]
  },
  {
   "cell_type": "code",
   "execution_count": 60,
   "metadata": {},
   "outputs": [
    {
     "ename": "TypeError",
     "evalue": "unsupported operand type(s) for +: 'int' and 'NoneType'",
     "output_type": "error",
     "traceback": [
      "\u001b[0;31m---------------------------------------------------------------------------\u001b[0m",
      "\u001b[0;31mTypeError\u001b[0m                                 Traceback (most recent call last)",
      "\u001b[0;32m<ipython-input-60-4d71b0a0c743>\u001b[0m in \u001b[0;36m<module>\u001b[0;34m\u001b[0m\n\u001b[1;32m      1\u001b[0m \u001b[0;31m# next теперь не работает\u001b[0m\u001b[0;34m\u001b[0m\u001b[0;34m\u001b[0m\u001b[0;34m\u001b[0m\u001b[0m\n\u001b[0;32m----> 2\u001b[0;31m \u001b[0mnext\u001b[0m\u001b[0;34m(\u001b[0m\u001b[0mG\u001b[0m\u001b[0;34m)\u001b[0m\u001b[0;34m\u001b[0m\u001b[0;34m\u001b[0m\u001b[0m\n\u001b[0m",
      "\u001b[0;32m<ipython-input-57-d77357d1104d>\u001b[0m in \u001b[0;36mgen\u001b[0;34m()\u001b[0m\n\u001b[1;32m      2\u001b[0m     \u001b[0;32mfor\u001b[0m \u001b[0mi\u001b[0m \u001b[0;32min\u001b[0m \u001b[0mrange\u001b[0m\u001b[0;34m(\u001b[0m\u001b[0;36m10\u001b[0m\u001b[0;34m)\u001b[0m\u001b[0;34m:\u001b[0m\u001b[0;34m\u001b[0m\u001b[0;34m\u001b[0m\u001b[0m\n\u001b[1;32m      3\u001b[0m         \u001b[0mx\u001b[0m \u001b[0;34m=\u001b[0m \u001b[0;32myield\u001b[0m\u001b[0;34m\u001b[0m\u001b[0;34m\u001b[0m\u001b[0m\n\u001b[0;32m----> 4\u001b[0;31m         \u001b[0mprint\u001b[0m\u001b[0;34m(\u001b[0m\u001b[0mi\u001b[0m \u001b[0;34m+\u001b[0m \u001b[0mx\u001b[0m\u001b[0;34m)\u001b[0m\u001b[0;34m\u001b[0m\u001b[0;34m\u001b[0m\u001b[0m\n\u001b[0m",
      "\u001b[0;31mTypeError\u001b[0m: unsupported operand type(s) for +: 'int' and 'NoneType'"
     ]
    }
   ],
   "source": [
    "# next теперь не работает\n",
    "next(G)"
   ]
  },
  {
   "cell_type": "markdown",
   "metadata": {},
   "source": [
    "![alt text](Python06-iterators/deeper.png) "
   ]
  },
  {
   "cell_type": "markdown",
   "metadata": {},
   "source": [
    "Давайте теперь рассмотрим такой пример, когда у нас есть два генератора, которые общаются между собой "
   ]
  },
  {
   "cell_type": "code",
   "execution_count": 61,
   "metadata": {},
   "outputs": [],
   "source": [
    "import random\n",
    "\n",
    "# Генерим новые данные\n",
    "def get_data():\n",
    "    return random.sample(range(10), 2)\n",
    "\n",
    "# Обрабатываем данные\n",
    "def consume():\n",
    "    total_sum = 0\n",
    "    total_amount = 0\n",
    "    \n",
    "    while True:\n",
    "        data = yield\n",
    "        total_sum += sum(data)\n",
    "        total_amount += len(data)\n",
    "        print('Running average is {}'.format(total_sum/total_amount))\n",
    "        \n",
    "# Производим новые данные и передаём в обработку\n",
    "def produce(consumer):\n",
    "    while True:\n",
    "        data = get_data()\n",
    "        print('New data {}'.format(data))\n",
    "        consumer.send(data)\n",
    "        yield"
   ]
  },
  {
   "cell_type": "code",
   "execution_count": 62,
   "metadata": {},
   "outputs": [
    {
     "name": "stdout",
     "output_type": "stream",
     "text": [
      "New data [9, 1]\n",
      "Running average is 5.0\n",
      "New data [3, 8]\n",
      "Running average is 5.25\n",
      "New data [2, 9]\n",
      "Running average is 5.333333333333333\n",
      "New data [6, 8]\n",
      "Running average is 5.75\n",
      "New data [0, 3]\n",
      "Running average is 4.9\n",
      "New data [8, 2]\n",
      "Running average is 4.916666666666667\n",
      "New data [4, 7]\n",
      "Running average is 5.0\n",
      "New data [8, 1]\n",
      "Running average is 4.9375\n",
      "New data [3, 8]\n",
      "Running average is 5.0\n",
      "New data [3, 1]\n",
      "Running average is 4.7\n",
      "New data [5, 4]\n",
      "Running average is 4.681818181818182\n",
      "New data [4, 7]\n",
      "Running average is 4.75\n",
      "New data [6, 9]\n",
      "Running average is 4.961538461538462\n",
      "New data [7, 0]\n",
      "Running average is 4.857142857142857\n",
      "New data [2, 7]\n",
      "Running average is 4.833333333333333\n",
      "New data [2, 5]\n",
      "Running average is 4.75\n",
      "New data [6, 7]\n",
      "Running average is 4.852941176470588\n",
      "New data [3, 6]\n",
      "Running average is 4.833333333333333\n",
      "New data [2, 3]\n",
      "Running average is 4.7105263157894735\n",
      "New data [1, 3]\n",
      "Running average is 4.575\n",
      "New data [3, 4]\n",
      "Running average is 4.523809523809524\n",
      "New data [9, 7]\n",
      "Running average is 4.681818181818182\n",
      "New data [7, 5]\n",
      "Running average is 4.739130434782608\n",
      "New data [2, 4]\n",
      "Running average is 4.666666666666667\n",
      "New data [0, 5]\n",
      "Running average is 4.58\n",
      "New data [2, 4]\n",
      "Running average is 4.519230769230769\n",
      "New data [3, 6]\n",
      "Running average is 4.518518518518518\n",
      "New data [0, 7]\n",
      "Running average is 4.482142857142857\n",
      "New data [0, 4]\n",
      "Running average is 4.396551724137931\n",
      "New data [0, 6]\n",
      "Running average is 4.35\n",
      "New data [1, 9]\n",
      "Running average is 4.370967741935484\n",
      "New data [8, 2]\n",
      "Running average is 4.390625\n",
      "New data [8, 1]\n",
      "Running average is 4.393939393939394\n",
      "New data [9, 2]\n",
      "Running average is 4.426470588235294\n",
      "New data [7, 2]\n",
      "Running average is 4.428571428571429\n",
      "New data [6, 4]\n",
      "Running average is 4.444444444444445\n",
      "New data [9, 0]\n",
      "Running average is 4.445945945945946\n",
      "New data [1, 8]\n",
      "Running average is 4.447368421052632\n",
      "New data [0, 8]\n",
      "Running average is 4.435897435897436\n",
      "New data [9, 1]\n",
      "Running average is 4.45\n",
      "New data [7, 5]\n",
      "Running average is 4.487804878048781\n",
      "New data [0, 8]\n",
      "Running average is 4.476190476190476\n",
      "New data [1, 4]\n",
      "Running average is 4.430232558139535\n",
      "New data [8, 1]\n",
      "Running average is 4.431818181818182\n",
      "New data [5, 8]\n",
      "Running average is 4.477777777777778\n",
      "New data [3, 2]\n",
      "Running average is 4.434782608695652\n",
      "New data [8, 1]\n",
      "Running average is 4.4361702127659575\n",
      "New data [3, 9]\n",
      "Running average is 4.46875\n",
      "New data [1, 0]\n",
      "Running average is 4.387755102040816\n",
      "New data [1, 8]\n",
      "Running average is 4.39\n",
      "New data [3, 6]\n",
      "Running average is 4.392156862745098\n",
      "New data [1, 0]\n",
      "Running average is 4.3173076923076925\n",
      "New data [5, 2]\n",
      "Running average is 4.30188679245283\n",
      "New data [9, 1]\n",
      "Running average is 4.314814814814815\n",
      "New data [6, 1]\n",
      "Running average is 4.3\n",
      "New data [1, 6]\n",
      "Running average is 4.285714285714286\n",
      "New data [7, 0]\n",
      "Running average is 4.271929824561403\n",
      "New data [7, 4]\n",
      "Running average is 4.293103448275862\n",
      "New data [0, 2]\n",
      "Running average is 4.237288135593221\n",
      "New data [0, 6]\n",
      "Running average is 4.216666666666667\n",
      "New data [3, 2]\n",
      "Running average is 4.188524590163935\n",
      "New data [8, 2]\n",
      "Running average is 4.201612903225806\n",
      "New data [2, 4]\n",
      "Running average is 4.182539682539683\n",
      "New data [9, 8]\n",
      "Running average is 4.25\n",
      "New data [2, 6]\n",
      "Running average is 4.246153846153846\n",
      "New data [2, 9]\n",
      "Running average is 4.265151515151516\n",
      "New data [2, 6]\n",
      "Running average is 4.2611940298507465\n",
      "New data [6, 8]\n",
      "Running average is 4.301470588235294\n",
      "New data [8, 1]\n",
      "Running average is 4.304347826086956\n",
      "New data [4, 8]\n",
      "Running average is 4.328571428571428\n",
      "New data [7, 0]\n",
      "Running average is 4.316901408450704\n",
      "New data [5, 4]\n",
      "Running average is 4.319444444444445\n",
      "New data [9, 3]\n",
      "Running average is 4.342465753424658\n",
      "New data [0, 2]\n",
      "Running average is 4.297297297297297\n",
      "New data [0, 6]\n",
      "Running average is 4.28\n",
      "New data [9, 6]\n",
      "Running average is 4.322368421052632\n",
      "New data [6, 3]\n",
      "Running average is 4.324675324675325\n",
      "New data [6, 1]\n",
      "Running average is 4.314102564102564\n",
      "New data [8, 0]\n",
      "Running average is 4.310126582278481\n",
      "New data [6, 1]\n",
      "Running average is 4.3\n",
      "New data [1, 2]\n",
      "Running average is 4.265432098765432\n",
      "New data [6, 0]\n",
      "Running average is 4.25\n",
      "New data [3, 0]\n",
      "Running average is 4.216867469879518\n",
      "New data [0, 7]\n",
      "Running average is 4.208333333333333\n",
      "New data [3, 5]\n",
      "Running average is 4.205882352941177\n",
      "New data [4, 8]\n",
      "Running average is 4.226744186046512\n",
      "New data [2, 6]\n",
      "Running average is 4.224137931034483\n",
      "New data [1, 2]\n",
      "Running average is 4.193181818181818\n",
      "New data [2, 6]\n",
      "Running average is 4.191011235955056\n",
      "New data [6, 4]\n",
      "Running average is 4.2\n",
      "New data [4, 7]\n",
      "Running average is 4.214285714285714\n",
      "New data [9, 0]\n",
      "Running average is 4.217391304347826\n",
      "New data [1, 8]\n",
      "Running average is 4.220430107526882\n",
      "New data [0, 6]\n",
      "Running average is 4.207446808510638\n",
      "New data [4, 7]\n",
      "Running average is 4.221052631578948\n",
      "New data [9, 6]\n",
      "Running average is 4.255208333333333\n",
      "New data [2, 7]\n",
      "Running average is 4.257731958762887\n",
      "New data [1, 7]\n",
      "Running average is 4.255102040816326\n",
      "New data [2, 8]\n",
      "Running average is 4.262626262626263\n",
      "New data [5, 8]\n",
      "Running average is 4.285\n",
      "New data [6, 1]\n",
      "Running average is 4.2772277227722775\n",
      "New data [9, 3]\n",
      "Running average is 4.294117647058823\n",
      "New data [4, 5]\n",
      "Running average is 4.296116504854369\n",
      "New data [9, 8]\n",
      "Running average is 4.336538461538462\n",
      "New data [4, 7]\n",
      "Running average is 4.347619047619047\n",
      "New data [1, 2]\n",
      "Running average is 4.320754716981132\n",
      "New data [5, 3]\n",
      "Running average is 4.317757009345795\n",
      "New data [7, 3]\n",
      "Running average is 4.324074074074074\n",
      "New data [9, 8]\n",
      "Running average is 4.362385321100917\n",
      "New data [9, 1]\n",
      "Running average is 4.368181818181818\n",
      "New data [0, 6]\n",
      "Running average is 4.3558558558558556\n",
      "New data [8, 1]\n",
      "Running average is 4.357142857142857\n",
      "New data [6, 8]\n",
      "Running average is 4.380530973451328\n",
      "New data [8, 2]\n",
      "Running average is 4.385964912280702\n",
      "New data [2, 8]\n",
      "Running average is 4.391304347826087\n",
      "New data [4, 6]\n",
      "Running average is 4.396551724137931\n",
      "New data [0, 8]\n",
      "Running average is 4.3931623931623935\n",
      "New data [6, 4]\n",
      "Running average is 4.398305084745763\n",
      "New data [3, 1]\n",
      "Running average is 4.378151260504202\n",
      "New data [2, 9]\n",
      "Running average is 4.3875\n",
      "New data [2, 1]\n",
      "Running average is 4.363636363636363\n",
      "New data [7, 4]\n",
      "Running average is 4.372950819672131\n",
      "New data [3, 5]\n",
      "Running average is 4.369918699186992\n",
      "New data [7, 0]\n",
      "Running average is 4.362903225806452\n",
      "New data [9, 2]\n",
      "Running average is 4.372\n",
      "New data [0, 7]\n",
      "Running average is 4.365079365079365\n",
      "New data [5, 9]\n",
      "Running average is 4.3858267716535435\n",
      "New data [6, 2]\n",
      "Running average is 4.3828125\n",
      "New data [1, 6]\n",
      "Running average is 4.375968992248062\n",
      "New data [5, 8]\n",
      "Running average is 4.392307692307693\n",
      "New data [3, 5]\n",
      "Running average is 4.3893129770992365\n",
      "New data [5, 6]\n",
      "Running average is 4.3977272727272725\n",
      "New data [3, 4]\n",
      "Running average is 4.390977443609023\n",
      "New data [8, 9]\n",
      "Running average is 4.4216417910447765\n",
      "New data [4, 1]\n",
      "Running average is 4.407407407407407\n",
      "New data [1, 9]\n",
      "Running average is 4.411764705882353\n",
      "New data [0, 5]\n",
      "Running average is 4.397810218978102\n",
      "New data [7, 2]\n",
      "Running average is 4.398550724637682\n",
      "New data [7, 9]\n",
      "Running average is 4.424460431654676\n",
      "New data [7, 8]\n",
      "Running average is 4.446428571428571\n",
      "New data [1, 6]\n",
      "Running average is 4.439716312056738\n",
      "New data [4, 7]\n",
      "Running average is 4.447183098591549\n",
      "New data [8, 0]\n",
      "Running average is 4.444055944055944\n",
      "New data [0, 5]\n",
      "Running average is 4.430555555555555\n",
      "New data [4, 3]\n",
      "Running average is 4.424137931034482\n",
      "New data [3, 9]\n",
      "Running average is 4.434931506849315\n",
      "New data [1, 4]\n",
      "Running average is 4.421768707482993\n",
      "New data [8, 6]\n",
      "Running average is 4.4391891891891895\n",
      "New data [3, 8]\n",
      "Running average is 4.446308724832215\n",
      "New data [2, 5]\n",
      "Running average is 4.44\n",
      "New data [2, 7]\n",
      "Running average is 4.440397350993377\n",
      "New data [8, 4]\n",
      "Running average is 4.4506578947368425\n",
      "New data [2, 3]\n",
      "Running average is 4.437908496732026\n",
      "New data [4, 0]\n",
      "Running average is 4.422077922077922\n",
      "New data [0, 9]\n",
      "Running average is 4.422580645161291\n",
      "New data [6, 9]\n",
      "Running average is 4.4423076923076925\n",
      "New data [9, 5]\n",
      "Running average is 4.45859872611465\n",
      "New data [2, 0]\n",
      "Running average is 4.436708860759493\n",
      "New data [1, 6]\n",
      "Running average is 4.430817610062893\n",
      "New data [9, 2]\n",
      "Running average is 4.4375\n",
      "New data [3, 9]\n",
      "Running average is 4.447204968944099\n",
      "New data [1, 9]\n",
      "Running average is 4.450617283950617\n",
      "New data [9, 3]\n",
      "Running average is 4.460122699386503\n",
      "New data [3, 1]\n",
      "Running average is 4.445121951219512\n",
      "New data [6, 4]\n",
      "Running average is 4.448484848484848\n",
      "New data [5, 3]\n",
      "Running average is 4.445783132530121\n",
      "New data [9, 7]\n",
      "Running average is 4.467065868263473\n",
      "New data [9, 6]\n",
      "Running average is 4.4851190476190474\n",
      "New data [9, 3]\n",
      "Running average is 4.494082840236686\n",
      "New data [0, 1]\n",
      "Running average is 4.470588235294118\n",
      "New data [1, 2]\n",
      "Running average is 4.453216374269005\n",
      "New data [7, 6]\n",
      "Running average is 4.465116279069767\n",
      "New data [6, 1]\n",
      "Running average is 4.459537572254336\n",
      "New data [9, 3]\n",
      "Running average is 4.468390804597701\n",
      "New data [3, 6]\n",
      "Running average is 4.468571428571429\n",
      "New data [8, 2]\n",
      "Running average is 4.471590909090909\n",
      "New data [6, 0]\n",
      "Running average is 4.463276836158192\n",
      "New data [5, 6]\n",
      "Running average is 4.469101123595506\n",
      "New data [2, 8]\n",
      "Running average is 4.472067039106145\n",
      "New data [6, 1]\n",
      "Running average is 4.466666666666667\n",
      "New data [6, 8]\n",
      "Running average is 4.480662983425415\n",
      "New data [9, 0]\n",
      "Running average is 4.480769230769231\n",
      "New data [4, 5]\n",
      "Running average is 4.48087431693989\n",
      "New data [8, 2]\n",
      "Running average is 4.483695652173913\n",
      "New data [7, 6]\n",
      "Running average is 4.494594594594594\n",
      "New data [1, 6]\n",
      "Running average is 4.489247311827957\n",
      "New data [2, 6]\n",
      "Running average is 4.4866310160427805\n",
      "New data [9, 1]\n",
      "Running average is 4.48936170212766\n",
      "New data [6, 2]\n",
      "Running average is 4.4867724867724865\n",
      "New data [8, 5]\n",
      "Running average is 4.497368421052632\n",
      "New data [0, 6]\n",
      "Running average is 4.489528795811518\n",
      "New data [7, 2]\n",
      "Running average is 4.489583333333333\n",
      "New data [1, 2]\n",
      "Running average is 4.474093264248705\n",
      "New data [1, 6]\n",
      "Running average is 4.469072164948454\n",
      "New data [0, 5]\n",
      "Running average is 4.458974358974359\n",
      "New data [2, 7]\n",
      "Running average is 4.459183673469388\n",
      "New data [1, 5]\n",
      "Running average is 4.451776649746193\n",
      "New data [9, 2]\n",
      "Running average is 4.457070707070707\n",
      "New data [1, 9]\n",
      "Running average is 4.459798994974874\n",
      "New data [8, 1]\n",
      "Running average is 4.46\n",
      "New data [8, 6]\n",
      "Running average is 4.472636815920398\n",
      "New data [4, 8]\n",
      "Running average is 4.48019801980198\n",
      "New data [9, 3]\n",
      "Running average is 4.487684729064039\n",
      "New data [3, 7]\n",
      "Running average is 4.490196078431373\n",
      "New data [1, 5]\n",
      "Running average is 4.482926829268293\n",
      "New data [1, 4]\n",
      "Running average is 4.473300970873787\n",
      "New data [3, 6]\n",
      "Running average is 4.473429951690822\n",
      "New data [0, 7]\n",
      "Running average is 4.46875\n",
      "New data [0, 3]\n",
      "Running average is 4.454545454545454\n",
      "New data [0, 8]\n",
      "Running average is 4.4523809523809526\n",
      "New data [9, 4]\n",
      "Running average is 4.462085308056872\n",
      "New data [1, 9]\n",
      "Running average is 4.464622641509434\n",
      "New data [6, 5]\n",
      "Running average is 4.469483568075117\n",
      "New data [0, 9]\n",
      "Running average is 4.469626168224299\n",
      "New data [9, 2]\n",
      "Running average is 4.474418604651163\n",
      "New data [9, 5]\n",
      "Running average is 4.486111111111111\n",
      "New data [7, 1]\n",
      "Running average is 4.483870967741935\n",
      "New data [8, 6]\n",
      "Running average is 4.495412844036697\n",
      "New data [8, 6]\n",
      "Running average is 4.506849315068493\n",
      "New data [9, 4]\n",
      "Running average is 4.515909090909091\n",
      "New data [8, 3]\n",
      "Running average is 4.520361990950226\n",
      "New data [3, 0]\n",
      "Running average is 4.506756756756757\n",
      "New data [0, 2]\n",
      "Running average is 4.49103139013453\n",
      "New data [2, 7]\n",
      "Running average is 4.491071428571429\n",
      "New data [0, 5]\n",
      "Running average is 4.482222222222222\n",
      "New data [1, 3]\n",
      "Running average is 4.471238938053097\n",
      "New data [8, 3]\n",
      "Running average is 4.475770925110132\n",
      "New data [8, 7]\n",
      "Running average is 4.489035087719298\n",
      "New data [4, 8]\n",
      "Running average is 4.495633187772926\n",
      "New data [2, 4]\n",
      "Running average is 4.489130434782608\n",
      "New data [2, 5]\n",
      "Running average is 4.484848484848484\n",
      "New data [1, 8]\n",
      "Running average is 4.484913793103448\n",
      "New data [4, 0]\n",
      "Running average is 4.4742489270386265\n",
      "New data [4, 2]\n",
      "Running average is 4.467948717948718\n",
      "New data [4, 0]\n",
      "Running average is 4.457446808510638\n",
      "New data [8, 2]\n",
      "Running average is 4.459745762711864\n",
      "New data [6, 2]\n",
      "Running average is 4.457805907172996\n",
      "New data [0, 5]\n",
      "Running average is 4.449579831932773\n",
      "New data [2, 8]\n",
      "Running average is 4.451882845188284\n",
      "New data [2, 1]\n",
      "Running average is 4.439583333333333\n",
      "New data [7, 9]\n",
      "Running average is 4.454356846473029\n",
      "New data [4, 8]\n",
      "Running average is 4.460743801652892\n",
      "New data [5, 0]\n",
      "Running average is 4.4526748971193415\n",
      "New data [2, 0]\n",
      "Running average is 4.438524590163935\n",
      "New data [0, 7]\n",
      "Running average is 4.4346938775510205\n",
      "New data [0, 4]\n",
      "Running average is 4.42479674796748\n",
      "New data [5, 0]\n",
      "Running average is 4.417004048582996\n",
      "New data [9, 6]\n",
      "Running average is 4.429435483870968\n",
      "New data [1, 4]\n",
      "Running average is 4.421686746987952\n",
      "New data [1, 3]\n",
      "Running average is 4.412\n",
      "New data [2, 3]\n",
      "Running average is 4.404382470119522\n",
      "New data [2, 8]\n",
      "Running average is 4.406746031746032\n",
      "New data [9, 1]\n",
      "Running average is 4.409090909090909\n",
      "New data [6, 5]\n",
      "Running average is 4.413385826771654\n",
      "New data [1, 7]\n",
      "Running average is 4.411764705882353\n",
      "New data [6, 7]\n",
      "Running average is 4.419921875\n",
      "New data [5, 3]\n",
      "Running average is 4.418287937743191\n",
      "New data [3, 4]\n",
      "Running average is 4.4147286821705425\n",
      "New data [0, 8]\n",
      "Running average is 4.413127413127413\n",
      "New data [9, 7]\n",
      "Running average is 4.426923076923077\n",
      "New data [5, 7]\n",
      "Running average is 4.432950191570881\n",
      "New data [8, 0]\n",
      "Running average is 4.431297709923665\n",
      "New data [5, 6]\n",
      "Running average is 4.435361216730038\n",
      "New data [5, 1]\n",
      "Running average is 4.429924242424242\n",
      "New data [6, 5]\n",
      "Running average is 4.433962264150943\n",
      "New data [2, 7]\n",
      "Running average is 4.434210526315789\n",
      "New data [3, 4]\n",
      "Running average is 4.430711610486892\n",
      "New data [7, 4]\n",
      "Running average is 4.434701492537314\n",
      "New data [8, 6]\n",
      "Running average is 4.444237918215613\n",
      "New data [0, 5]\n",
      "Running average is 4.437037037037037\n",
      "New data [4, 3]\n",
      "Running average is 4.4335793357933575\n",
      "New data [2, 1]\n",
      "Running average is 4.422794117647059\n",
      "New data [9, 0]\n",
      "Running average is 4.423076923076923\n",
      "New data [0, 1]\n",
      "Running average is 4.408759124087592\n",
      "New data [8, 9]\n",
      "Running average is 4.423636363636364\n",
      "New data [4, 9]\n",
      "Running average is 4.431159420289855\n",
      "New data [8, 4]\n",
      "Running average is 4.436823104693141\n",
      "New data [9, 1]\n",
      "Running average is 4.438848920863309\n",
      "New data [1, 7]\n",
      "Running average is 4.437275985663082\n",
      "New data [4, 6]\n",
      "Running average is 4.439285714285714\n",
      "New data [1, 9]\n",
      "Running average is 4.4412811387900355\n",
      "New data [1, 3]\n",
      "Running average is 4.432624113475177\n",
      "New data [5, 9]\n",
      "Running average is 4.4416961130742045\n",
      "New data [0, 9]\n",
      "Running average is 4.441901408450704\n",
      "New data [9, 7]\n",
      "Running average is 4.454385964912281\n",
      "New data [6, 7]\n",
      "Running average is 4.461538461538462\n",
      "New data [5, 6]\n",
      "Running average is 4.465156794425087\n",
      "New data [8, 7]\n",
      "Running average is 4.475694444444445\n",
      "New data [1, 8]\n",
      "Running average is 4.475778546712803\n",
      "New data [8, 0]\n",
      "Running average is 4.474137931034483\n",
      "New data [8, 9]\n",
      "Running average is 4.487972508591065\n",
      "New data [2, 7]\n",
      "Running average is 4.488013698630137\n",
      "New data [4, 8]\n",
      "Running average is 4.493174061433447\n",
      "New data [5, 9]\n",
      "Running average is 4.5017006802721085\n",
      "New data [4, 5]\n",
      "Running average is 4.501694915254237\n",
      "New data [7, 5]\n",
      "Running average is 4.506756756756757\n",
      "New data [3, 2]\n",
      "Running average is 4.5\n",
      "New data [9, 5]\n",
      "Running average is 4.508389261744966\n",
      "New data [7, 6]\n",
      "Running average is 4.51505016722408\n",
      "New data [5, 8]\n",
      "Running average is 4.5216666666666665\n",
      "New data [9, 8]\n",
      "Running average is 4.534883720930233\n",
      "New data [2, 4]\n",
      "Running average is 4.529801324503311\n",
      "New data [3, 2]\n",
      "Running average is 4.523102310231023\n",
      "New data [4, 9]\n",
      "Running average is 4.529605263157895\n",
      "New data [8, 1]\n",
      "Running average is 4.529508196721311\n",
      "New data [1, 4]\n",
      "Running average is 4.522875816993464\n",
      "New data [4, 2]\n",
      "Running average is 4.517915309446254\n",
      "New data [6, 0]\n",
      "Running average is 4.512987012987013\n",
      "New data [7, 0]\n",
      "Running average is 4.509708737864078\n",
      "New data [2, 7]\n",
      "Running average is 4.509677419354839\n",
      "New data [3, 4]\n",
      "Running average is 4.506430868167203\n",
      "New data [6, 3]\n",
      "Running average is 4.506410256410256\n",
      "New data [9, 5]\n",
      "Running average is 4.514376996805112\n",
      "New data [0, 1]\n",
      "Running average is 4.501592356687898\n",
      "New data [7, 5]\n",
      "Running average is 4.506349206349206\n",
      "New data [5, 6]\n",
      "Running average is 4.5094936708860756\n",
      "New data [0, 3]\n",
      "Running average is 4.5\n",
      "New data [2, 6]\n",
      "Running average is 4.498427672955975\n",
      "New data [2, 7]\n",
      "Running average is 4.498432601880878\n",
      "New data [8, 6]\n",
      "Running average is 4.50625\n",
      "New data [2, 3]\n",
      "Running average is 4.5\n",
      "New data [5, 7]\n",
      "Running average is 4.504658385093168\n",
      "New data [8, 1]\n",
      "Running average is 4.504643962848297\n",
      "New data [6, 1]\n",
      "Running average is 4.5015432098765435\n",
      "New data [4, 5]\n",
      "Running average is 4.501538461538462\n",
      "New data [3, 7]\n",
      "Running average is 4.5030674846625764\n",
      "New data [8, 7]\n",
      "Running average is 4.51223241590214\n",
      "New data [8, 0]\n",
      "Running average is 4.510670731707317\n",
      "New data [0, 8]\n",
      "Running average is 4.509118541033435\n",
      "New data [5, 2]\n",
      "Running average is 4.506060606060606\n",
      "New data [3, 7]\n",
      "Running average is 4.507552870090635\n",
      "New data [1, 6]\n",
      "Running average is 4.504518072289157\n",
      "New data [1, 0]\n",
      "Running average is 4.4924924924924925\n",
      "New data [5, 4]\n",
      "Running average is 4.49251497005988\n",
      "New data [6, 5]\n",
      "Running average is 4.495522388059701\n",
      "New data [9, 8]\n",
      "Running average is 4.507440476190476\n",
      "New data [9, 7]\n",
      "Running average is 4.517804154302671\n",
      "New data [8, 3]\n",
      "Running average is 4.520710059171598\n",
      "New data [8, 3]\n",
      "Running average is 4.523598820058997\n",
      "New data [8, 4]\n",
      "Running average is 4.527941176470589\n",
      "New data [7, 0]\n",
      "Running average is 4.524926686217009\n",
      "New data [0, 4]\n",
      "Running average is 4.517543859649122\n",
      "New data [7, 4]\n",
      "Running average is 4.520408163265306\n",
      "New data [8, 3]\n",
      "Running average is 4.523255813953488\n",
      "New data [7, 2]\n",
      "Running average is 4.523188405797101\n",
      "New data [3, 4]\n",
      "Running average is 4.520231213872832\n",
      "New data [5, 2]\n",
      "Running average is 4.517291066282421\n",
      "New data [4, 5]\n",
      "Running average is 4.517241379310345\n",
      "New data [6, 5]\n",
      "Running average is 4.520057306590258\n",
      "New data [7, 2]\n",
      "Running average is 4.52\n",
      "New data [8, 2]\n",
      "Running average is 4.521367521367521\n",
      "New data [5, 8]\n",
      "Running average is 4.526988636363637\n",
      "New data [6, 8]\n",
      "Running average is 4.5339943342776206\n",
      "New data [3, 1]\n",
      "Running average is 4.52683615819209\n",
      "New data [8, 6]\n",
      "Running average is 4.533802816901408\n",
      "New data [2, 5]\n",
      "Running average is 4.530898876404494\n",
      "New data [9, 1]\n",
      "Running average is 4.5322128851540615\n",
      "New data [5, 3]\n",
      "Running average is 4.5307262569832405\n",
      "New data [2, 4]\n",
      "Running average is 4.5264623955431755\n",
      "New data [2, 0]\n",
      "Running average is 4.516666666666667\n",
      "New data [7, 2]\n",
      "Running average is 4.516620498614959\n",
      "New data [8, 3]\n",
      "Running average is 4.519337016574585\n",
      "New data [4, 8]\n",
      "Running average is 4.523415977961433\n",
      "New data [7, 2]\n",
      "Running average is 4.523351648351649\n",
      "New data [3, 2]\n",
      "Running average is 4.517808219178082\n",
      "New data [7, 5]\n",
      "Running average is 4.521857923497268\n",
      "New data [2, 5]\n",
      "Running average is 4.5190735694822886\n",
      "New data [9, 2]\n",
      "Running average is 4.521739130434782\n",
      "New data [5, 1]\n",
      "Running average is 4.517615176151762\n",
      "New data [2, 3]\n",
      "Running average is 4.512162162162162\n",
      "New data [7, 4]\n",
      "Running average is 4.514824797843666\n",
      "New data [7, 6]\n",
      "Running average is 4.520161290322581\n",
      "New data [4, 5]\n",
      "Running average is 4.520107238605898\n",
      "New data [0, 1]\n",
      "Running average is 4.509358288770054\n",
      "New data [8, 0]\n",
      "Running average is 4.508\n",
      "New data [1, 7]\n",
      "Running average is 4.506648936170213\n",
      "New data [7, 2]\n",
      "Running average is 4.506631299734748\n",
      "New data [7, 4]\n",
      "Running average is 4.5092592592592595\n",
      "New data [8, 6]\n",
      "Running average is 4.515831134564643\n",
      "New data [4, 8]\n",
      "Running average is 4.519736842105263\n",
      "New data [1, 3]\n",
      "Running average is 4.513123359580052\n",
      "New data [1, 5]\n",
      "Running average is 4.5091623036649215\n",
      "New data [1, 9]\n",
      "Running average is 4.510443864229765\n",
      "New data [9, 7]\n",
      "Running average is 4.51953125\n",
      "New data [4, 3]\n",
      "Running average is 4.5168831168831165\n",
      "New data [3, 2]\n",
      "Running average is 4.511658031088083\n",
      "New data [4, 3]\n",
      "Running average is 4.5090439276485785\n",
      "New data [4, 5]\n",
      "Running average is 4.509020618556701\n",
      "New data [3, 8]\n",
      "Running average is 4.5115681233933165\n",
      "New data [1, 6]\n",
      "Running average is 4.508974358974359\n",
      "New data [3, 7]\n",
      "Running average is 4.510230179028133\n",
      "New data [4, 7]\n",
      "Running average is 4.512755102040816\n",
      "New data [6, 4]\n",
      "Running average is 4.513994910941475\n",
      "New data [1, 7]\n",
      "Running average is 4.5126903553299496\n",
      "New data [9, 1]\n",
      "Running average is 4.5139240506329115\n",
      "New data [3, 5]\n",
      "Running average is 4.512626262626263\n",
      "New data [9, 3]\n",
      "Running average is 4.516372795969773\n",
      "New data [4, 8]\n",
      "Running average is 4.5201005025125625\n",
      "New data [0, 1]\n",
      "Running average is 4.510025062656641\n",
      "New data [2, 9]\n",
      "Running average is 4.5125\n",
      "New data [0, 8]\n",
      "Running average is 4.511221945137157\n",
      "New data [6, 7]\n",
      "Running average is 4.516169154228856\n",
      "New data [3, 7]\n",
      "Running average is 4.5173697270471465\n",
      "New data [8, 5]\n",
      "Running average is 4.522277227722772\n",
      "New data [1, 2]\n",
      "Running average is 4.514814814814815\n",
      "New data [5, 6]\n",
      "Running average is 4.517241379310345\n",
      "New data [6, 7]\n",
      "Running average is 4.522113022113022\n",
      "New data [3, 8]\n",
      "Running average is 4.5245098039215685\n",
      "New data [0, 4]\n",
      "Running average is 4.518337408312958\n",
      "New data [7, 4]\n",
      "Running average is 4.520731707317073\n",
      "New data [9, 8]\n",
      "Running average is 4.530413625304136\n",
      "New data [2, 4]\n",
      "Running average is 4.526699029126213\n",
      "New data [4, 9]\n",
      "Running average is 4.531476997578692\n",
      "New data [8, 3]\n",
      "Running average is 4.533816425120773\n",
      "New data [3, 4]\n",
      "Running average is 4.531325301204819\n",
      "New data [8, 3]\n",
      "Running average is 4.533653846153846\n",
      "New data [2, 7]\n",
      "Running average is 4.53357314148681\n",
      "New data [8, 1]\n",
      "Running average is 4.533492822966507\n",
      "New data [2, 8]\n",
      "Running average is 4.534606205250597\n",
      "New data [4, 8]\n",
      "Running average is 4.538095238095238\n",
      "New data [9, 4]\n",
      "Running average is 4.542755344418052\n",
      "New data [9, 6]\n",
      "Running average is 4.549763033175355\n",
      "New data [7, 0]\n",
      "Running average is 4.547281323877068\n",
      "New data [2, 7]\n",
      "Running average is 4.547169811320755\n",
      "New data [2, 4]\n",
      "Running average is 4.543529411764706\n",
      "New data [7, 6]\n",
      "Running average is 4.5481220657277\n",
      "New data [3, 5]\n",
      "Running average is 4.546838407494145\n",
      "New data [8, 3]\n",
      "Running average is 4.549065420560748\n",
      "New data [8, 5]\n",
      "Running average is 4.553613053613054\n",
      "New data [4, 7]\n",
      "Running average is 4.555813953488372\n",
      "New data [3, 8]\n",
      "Running average is 4.558004640371229\n",
      "New data [8, 3]\n",
      "Running average is 4.560185185185185\n",
      "New data [4, 8]\n",
      "Running average is 4.563510392609699\n",
      "New data [5, 4]\n",
      "Running average is 4.563364055299539\n",
      "New data [4, 8]\n",
      "Running average is 4.566666666666666\n",
      "New data [6, 3]\n",
      "Running average is 4.56651376146789\n",
      "New data [2, 1]\n",
      "Running average is 4.559496567505721\n",
      "New data [0, 6]\n",
      "Running average is 4.55593607305936\n",
      "New data [0, 2]\n",
      "Running average is 4.547835990888383\n",
      "New data [6, 0]\n",
      "Running average is 4.5443181818181815\n",
      "New data [4, 3]\n",
      "Running average is 4.541950113378685\n",
      "New data [1, 0]\n",
      "Running average is 4.532805429864253\n",
      "New data [0, 9]\n",
      "Running average is 4.532731376975169\n",
      "New data [7, 1]\n",
      "Running average is 4.531531531531532\n",
      "New data [3, 4]\n",
      "Running average is 4.5292134831460675\n",
      "New data [1, 5]\n",
      "Running average is 4.5257847533632285\n",
      "New data [7, 4]\n",
      "Running average is 4.527964205816555\n",
      "New data [3, 6]\n",
      "Running average is 4.527901785714286\n",
      "New data [6, 4]\n",
      "Running average is 4.528953229398664\n",
      "New data [6, 0]\n",
      "Running average is 4.525555555555556\n",
      "New data [7, 1]\n",
      "Running average is 4.524390243902439\n",
      "New data [8, 1]\n",
      "Running average is 4.524336283185841\n",
      "New data [4, 6]\n",
      "Running average is 4.525386313465783\n",
      "New data [5, 2]\n",
      "Running average is 4.523127753303965\n",
      "New data [0, 3]\n",
      "Running average is 4.516483516483516\n",
      "New data [5, 0]\n",
      "Running average is 4.512061403508772\n",
      "New data [1, 9]\n",
      "Running average is 4.513129102844639\n",
      "New data [1, 6]\n",
      "Running average is 4.510917030567685\n",
      "New data [0, 3]\n",
      "Running average is 4.504357298474946\n",
      "New data [2, 5]\n",
      "Running average is 4.502173913043478\n",
      "New data [9, 5]\n",
      "Running average is 4.507592190889371\n",
      "New data [2, 4]\n",
      "Running average is 4.504329004329004\n",
      "New data [5, 8]\n",
      "Running average is 4.508639308855291\n",
      "New data [8, 2]\n",
      "Running average is 4.509698275862069\n",
      "New data [0, 9]\n",
      "Running average is 4.509677419354839\n",
      "New data [7, 8]\n",
      "Running average is 4.516094420600858\n",
      "New data [2, 5]\n",
      "Running average is 4.5139186295503215\n",
      "New data [1, 5]\n",
      "Running average is 4.510683760683761\n",
      "New data [7, 0]\n",
      "Running average is 4.508528784648187\n",
      "New data [2, 1]\n",
      "Running average is 4.502127659574468\n",
      "New data [7, 9]\n",
      "Running average is 4.509554140127388\n",
      "New data [3, 2]\n",
      "Running average is 4.505296610169491\n",
      "New data [3, 8]\n",
      "Running average is 4.5073995771670194\n",
      "New data [6, 5]\n",
      "Running average is 4.5094936708860756\n",
      "New data [5, 0]\n",
      "Running average is 4.505263157894737\n",
      "New data [4, 5]\n",
      "Running average is 4.505252100840337\n",
      "New data [0, 5]\n",
      "Running average is 4.50104821802935\n",
      "New data [9, 5]\n",
      "Running average is 4.506276150627615\n",
      "New data [9, 8]\n",
      "Running average is 4.514613778705637\n",
      "New data [2, 0]\n",
      "Running average is 4.507291666666666\n",
      "New data [1, 5]\n",
      "Running average is 4.504158004158004\n",
      "New data [3, 1]\n",
      "Running average is 4.49896265560166\n",
      "New data [1, 8]\n",
      "Running average is 4.49896480331263\n",
      "New data [2, 6]\n",
      "Running average is 4.49793388429752\n",
      "New data [4, 0]\n",
      "Running average is 4.492783505154639\n",
      "New data [6, 5]\n",
      "Running average is 4.494855967078189\n",
      "New data [9, 5]\n",
      "Running average is 4.5\n",
      "New data [9, 5]\n",
      "Running average is 4.505122950819672\n",
      "New data [9, 8]\n",
      "Running average is 4.513292433537832\n",
      "New data [5, 0]\n",
      "Running average is 4.509183673469388\n",
      "New data [4, 0]\n",
      "Running average is 4.504073319755601\n",
      "New data [3, 9]\n",
      "Running average is 4.507113821138211\n",
      "New data [3, 2]\n",
      "Running average is 4.503042596348885\n",
      "New data [5, 6]\n",
      "Running average is 4.505060728744939\n",
      "New data [5, 1]\n",
      "Running average is 4.502020202020202\n",
      "New data [1, 5]\n",
      "Running average is 4.498991935483871\n",
      "New data [8, 2]\n",
      "Running average is 4.5\n",
      "New data [7, 2]\n",
      "Running average is 4.5\n",
      "New data [3, 4]\n",
      "Running average is 4.497995991983968\n",
      "New data [9, 6]\n",
      "Running average is 4.504\n",
      "New data [0, 3]\n",
      "Running average is 4.498003992015968\n",
      "New data [2, 7]\n",
      "Running average is 4.49800796812749\n",
      "New data [1, 0]\n",
      "Running average is 4.490059642147117\n",
      "New data [4, 2]\n",
      "Running average is 4.487103174603175\n",
      "New data [7, 2]\n",
      "Running average is 4.487128712871288\n",
      "New data [2, 4]\n",
      "Running average is 4.484189723320158\n",
      "New data [4, 8]\n",
      "Running average is 4.487179487179487\n",
      "New data [5, 4]\n",
      "Running average is 4.487204724409449\n",
      "New data [7, 2]\n",
      "Running average is 4.487229862475442\n",
      "New data [0, 7]\n",
      "Running average is 4.485294117647059\n",
      "New data [9, 1]\n",
      "Running average is 4.486301369863014\n",
      "New data [2, 8]\n",
      "Running average is 4.4873046875\n",
      "New data [1, 9]\n",
      "Running average is 4.488304093567251\n",
      "New data [5, 0]\n",
      "Running average is 4.48443579766537\n",
      "New data [2, 9]\n",
      "Running average is 4.4864077669902915\n",
      "New data [7, 6]\n",
      "Running average is 4.49031007751938\n",
      "New data [6, 9]\n",
      "Running average is 4.496131528046422\n",
      "New data [3, 6]\n",
      "Running average is 4.496138996138996\n",
      "New data [3, 1]\n",
      "Running average is 4.491329479768786\n",
      "New data [5, 4]\n",
      "Running average is 4.491346153846154\n",
      "New data [6, 8]\n",
      "Running average is 4.49616122840691\n",
      "New data [6, 7]\n",
      "Running average is 4.5\n",
      "New data [3, 8]\n",
      "Running average is 4.501912045889101\n",
      "New data [9, 4]\n",
      "Running average is 4.505725190839694\n",
      "New data [9, 2]\n",
      "Running average is 4.507619047619047\n",
      "New data [1, 7]\n",
      "Running average is 4.506653992395437\n",
      "New data [2, 8]\n",
      "Running average is 4.507590132827325\n",
      "New data [9, 8]\n",
      "Running average is 4.515151515151516\n",
      "New data [8, 9]\n",
      "Running average is 4.522684310018904\n",
      "New data [1, 2]\n",
      "Running average is 4.516981132075472\n",
      "New data [0, 4]\n",
      "Running average is 4.512241054613936\n",
      "New data [8, 5]\n",
      "Running average is 4.515977443609023\n",
      "New data [8, 3]\n",
      "Running average is 4.51782363977486\n",
      "New data [0, 8]\n",
      "Running average is 4.51685393258427\n",
      "New data [4, 8]\n",
      "Running average is 4.519626168224299\n",
      "New data [9, 6]\n",
      "Running average is 4.525186567164179\n",
      "New data [3, 0]\n",
      "Running average is 4.5195530726256985\n",
      "New data [5, 1]\n",
      "Running average is 4.516728624535316\n",
      "New data [8, 9]\n",
      "Running average is 4.524118738404453\n",
      "New data [6, 7]\n",
      "Running average is 4.527777777777778\n",
      "New data [0, 7]\n",
      "Running average is 4.5258780036968576\n",
      "New data [6, 0]\n",
      "Running average is 4.523062730627307\n",
      "New data [9, 8]\n",
      "Running average is 4.530386740331492\n",
      "New data [5, 2]\n",
      "Running average is 4.528492647058823\n",
      "New data [3, 6]\n",
      "Running average is 4.528440366972477\n",
      "New data [2, 0]\n",
      "Running average is 4.521978021978022\n",
      "New data [0, 7]\n",
      "Running average is 4.520109689213894\n",
      "New data [0, 7]\n",
      "Running average is 4.518248175182482\n",
      "New data [3, 6]\n",
      "Running average is 4.518214936247723\n",
      "New data [5, 1]\n",
      "Running average is 4.515454545454546\n",
      "New data [3, 6]\n",
      "Running average is 4.5154264972776765\n",
      "New data [4, 8]\n",
      "Running average is 4.518115942028985\n",
      "New data [4, 0]\n",
      "Running average is 4.513562386980109\n",
      "New data [3, 2]\n",
      "Running average is 4.509927797833935\n",
      "New data [3, 8]\n",
      "Running average is 4.511711711711712\n",
      "New data [7, 6]\n",
      "Running average is 4.515287769784172\n",
      "New data [4, 8]\n",
      "Running average is 4.517953321364453\n",
      "New data [6, 5]\n",
      "Running average is 4.519713261648746\n",
      "New data [8, 3]\n",
      "Running average is 4.521466905187835\n",
      "New data [7, 5]\n",
      "Running average is 4.524107142857143\n",
      "New data [4, 5]\n",
      "Running average is 4.524064171122995\n",
      "New data [6, 2]\n",
      "Running average is 4.523131672597865\n",
      "New data [9, 3]\n",
      "Running average is 4.525754884547069\n",
      "New data [6, 8]\n",
      "Running average is 4.530141843971631\n",
      "New data [3, 2]\n",
      "Running average is 4.5265486725663715\n",
      "New data [1, 7]\n",
      "Running average is 4.525618374558304\n",
      "New data [4, 7]\n",
      "Running average is 4.527336860670194\n",
      "New data [6, 9]\n",
      "Running average is 4.532570422535211\n",
      "New data [4, 2]\n",
      "Running average is 4.5298769771529\n",
      "New data [9, 2]\n",
      "Running average is 4.531578947368421\n",
      "New data [1, 7]\n",
      "Running average is 4.530647985989492\n",
      "New data [1, 8]\n",
      "Running average is 4.530594405594406\n",
      "New data [0, 1]\n",
      "Running average is 4.523560209424084\n",
      "New data [3, 2]\n",
      "Running average is 4.520034843205575\n",
      "New data [3, 4]\n",
      "Running average is 4.518260869565218\n",
      "New data [4, 6]\n",
      "Running average is 4.519097222222222\n",
      "New data [2, 9]\n",
      "Running average is 4.520797227036395\n",
      "New data [3, 9]\n",
      "Running average is 4.523356401384083\n",
      "New data [4, 9]\n",
      "Running average is 4.526770293609672\n",
      "New data [5, 9]\n",
      "Running average is 4.531034482758621\n",
      "New data [5, 3]\n",
      "Running average is 4.530120481927711\n",
      "New data [1, 0]\n",
      "Running average is 4.52319587628866\n",
      "New data [0, 5]\n",
      "Running average is 4.519725557461406\n",
      "New data [9, 0]\n",
      "Running average is 4.519691780821918\n",
      "New data [7, 1]\n",
      "Running average is 4.518803418803419\n",
      "New data [7, 1]\n",
      "Running average is 4.5179180887372015\n",
      "New data [6, 1]\n",
      "Running average is 4.51618398637138\n",
      "New data [5, 1]\n",
      "Running average is 4.51360544217687\n",
      "New data [5, 1]\n",
      "Running average is 4.5110356536502545\n",
      "New data [2, 8]\n",
      "Running average is 4.511864406779661\n",
      "New data [5, 8]\n",
      "Running average is 4.5152284263959395\n",
      "New data [7, 6]\n",
      "Running average is 4.518581081081081\n",
      "New data [0, 3]\n",
      "Running average is 4.513490725126475\n",
      "New data [4, 7]\n",
      "Running average is 4.515151515151516\n",
      "New data [2, 1]\n",
      "Running average is 4.510084033613445\n",
      "New data [6, 5]\n",
      "Running average is 4.511744966442953\n",
      "New data [8, 1]\n",
      "Running average is 4.511725293132328\n",
      "New data [5, 9]\n",
      "Running average is 4.515886287625418\n",
      "New data [3, 0]\n",
      "Running average is 4.510851419031719\n",
      "New data [3, 5]\n",
      "Running average is 4.51\n",
      "New data [6, 7]\n",
      "Running average is 4.5133111480865225\n",
      "New data [6, 8]\n",
      "Running average is 4.517441860465116\n",
      "New data [5, 8]\n",
      "Running average is 4.5207296849087895\n",
      "New data [4, 3]\n",
      "Running average is 4.519039735099338\n",
      "New data [8, 9]\n",
      "Running average is 4.525619834710744\n",
      "New data [6, 0]\n",
      "Running average is 4.523102310231023\n",
      "New data [4, 8]\n",
      "Running average is 4.525535420098847\n",
      "New data [2, 4]\n",
      "Running average is 4.5230263157894735\n",
      "New data [3, 1]\n",
      "Running average is 4.518883415435139\n",
      "New data [2, 0]\n",
      "Running average is 4.5131147540983605\n",
      "New data [0, 7]\n",
      "Running average is 4.511456628477905\n",
      "New data [5, 4]\n",
      "Running average is 4.511437908496732\n",
      "New data [0, 3]\n",
      "Running average is 4.506525285481239\n",
      "New data [8, 5]\n",
      "Running average is 4.509771986970684\n",
      "New data [2, 1]\n",
      "Running average is 4.504878048780488\n",
      "New data [8, 9]\n",
      "Running average is 4.511363636363637\n",
      "New data [4, 6]\n",
      "Running average is 4.512155591572123\n",
      "New data [8, 4]\n",
      "Running average is 4.514563106796117\n",
      "New data [1, 8]\n",
      "Running average is 4.51453957996769\n",
      "New data [0, 6]\n",
      "Running average is 4.512096774193548\n",
      "New data [3, 4]\n",
      "Running average is 4.510466988727858\n",
      "New data [9, 4]\n",
      "Running average is 4.513665594855305\n",
      "New data [7, 2]\n",
      "Running average is 4.513643659711075\n",
      "New data [6, 0]\n",
      "Running average is 4.511217948717949\n",
      "New data [1, 6]\n",
      "Running average is 4.5096\n",
      "New data [3, 5]\n",
      "Running average is 4.508785942492013\n",
      "New data [6, 4]\n",
      "Running average is 4.509569377990431\n",
      "New data [1, 8]\n",
      "Running average is 4.509554140127388\n",
      "New data [2, 6]\n",
      "Running average is 4.508744038155803\n",
      "New data [5, 7]\n",
      "Running average is 4.511111111111111\n",
      "New data [0, 5]\n",
      "Running average is 4.507923930269413\n",
      "New data [2, 8]\n",
      "Running average is 4.50870253164557\n",
      "New data [3, 8]\n",
      "Running average is 4.510268562401264\n",
      "New data [5, 2]\n",
      "Running average is 4.5086750788643535\n",
      "New data [9, 7]\n",
      "Running average is 4.514173228346457\n",
      "New data [0, 6]\n",
      "Running average is 4.511792452830188\n",
      "New data [2, 7]\n",
      "Running average is 4.5117739403453685\n",
      "New data [4, 9]\n",
      "Running average is 4.514890282131661\n",
      "New data [1, 7]\n",
      "Running average is 4.514084507042254\n",
      "New data [8, 4]\n",
      "Running average is 4.51640625\n",
      "New data [2, 9]\n",
      "Running average is 4.517940717628705\n",
      "New data [8, 1]\n",
      "Running average is 4.51791277258567\n",
      "New data [5, 9]\n",
      "Running average is 4.521772939346812\n",
      "New data [4, 5]\n",
      "Running average is 4.521739130434782\n",
      "New data [5, 1]\n",
      "Running average is 4.51937984496124\n",
      "New data [3, 1]\n",
      "Running average is 4.515479876160991\n",
      "New data [2, 9]\n",
      "Running average is 4.517001545595054\n",
      "New data [8, 0]\n",
      "Running average is 4.516203703703703\n",
      "New data [2, 3]\n",
      "Running average is 4.513097072419106\n",
      "New data [5, 1]\n",
      "Running average is 4.510769230769231\n",
      "New data [9, 5]\n",
      "Running average is 4.514592933947773\n",
      "New data [4, 2]\n",
      "Running average is 4.512269938650307\n",
      "New data [1, 2]\n",
      "Running average is 4.507656967840735\n",
      "New data [2, 9]\n",
      "Running average is 4.509174311926605\n",
      "New data [4, 8]\n",
      "Running average is 4.511450381679389\n",
      "New data [0, 3]\n",
      "Running average is 4.506859756097561\n",
      "New data [2, 5]\n",
      "Running average is 4.505327245053272\n",
      "New data [6, 8]\n",
      "Running average is 4.509118541033435\n",
      "New data [5, 7]\n",
      "Running average is 4.511380880121396\n",
      "New data [8, 9]\n",
      "Running average is 4.517424242424243\n",
      "New data [4, 5]\n",
      "Running average is 4.517397881996974\n",
      "New data [3, 0]\n",
      "Running average is 4.512839879154079\n",
      "New data [1, 6]\n",
      "Running average is 4.51131221719457\n",
      "New data [1, 3]\n",
      "Running average is 4.507530120481928\n",
      "New data [0, 4]\n",
      "Running average is 4.503759398496241\n",
      "New data [2, 6]\n",
      "Running average is 4.503003003003003\n",
      "New data [8, 4]\n",
      "Running average is 4.505247376311844\n",
      "New data [4, 8]\n",
      "Running average is 4.50748502994012\n",
      "New data [1, 7]\n",
      "Running average is 4.506726457399103\n",
      "New data [8, 0]\n",
      "Running average is 4.505970149253732\n",
      "New data [2, 1]\n",
      "Running average is 4.501490312965723\n",
      "New data [8, 5]\n",
      "Running average is 4.504464285714286\n",
      "New data [7, 6]\n",
      "Running average is 4.507429420505201\n",
      "New data [4, 0]\n",
      "Running average is 4.503709198813056\n",
      "New data [5, 2]\n",
      "Running average is 4.502222222222223\n",
      "New data [9, 1]\n",
      "Running average is 4.502958579881657\n",
      "New data [2, 6]\n",
      "Running average is 4.502215657311669\n",
      "New data [6, 1]\n",
      "Running average is 4.5007374631268435\n",
      "New data [4, 1]\n",
      "Running average is 4.4977908689248896\n",
      "New data [1, 3]\n",
      "Running average is 4.4941176470588236\n",
      "New data [9, 4]\n",
      "Running average is 4.497063142437592\n",
      "New data [9, 3]\n",
      "Running average is 4.499266862170088\n",
      "New data [3, 2]\n",
      "Running average is 4.496339677891655\n",
      "New data [1, 2]\n",
      "Running average is 4.491959064327485\n",
      "New data [8, 9]\n",
      "Running average is 4.497810218978103\n",
      "New data [2, 0]\n",
      "Running average is 4.49271137026239\n",
      "New data [9, 8]\n",
      "Running average is 4.498544395924308\n",
      "New data [7, 1]\n",
      "Running average is 4.49781976744186\n",
      "New data [0, 2]\n",
      "Running average is 4.4927431059506535\n",
      "New data [2, 0]\n",
      "Running average is 4.48768115942029\n",
      "New data [9, 3]\n",
      "Running average is 4.48986975397974\n",
      "New data [9, 5]\n",
      "Running average is 4.493497109826589\n",
      "New data [3, 2]\n",
      "Running average is 4.490620490620491\n",
      "New data [4, 0]\n",
      "Running average is 4.487031700288185\n",
      "New data [6, 1]\n",
      "Running average is 4.485611510791367\n",
      "New data [5, 1]\n",
      "Running average is 4.483477011494253\n",
      "New data [3, 6]\n",
      "Running average is 4.483500717360115\n",
      "New data [2, 9]\n",
      "Running average is 4.484957020057307\n",
      "New data [5, 0]\n",
      "Running average is 4.482117310443491\n",
      "New data [8, 9]\n",
      "Running average is 4.487857142857143\n",
      "New data [0, 3]\n",
      "Running average is 4.483594864479315\n",
      "New data [4, 5]\n",
      "Running average is 4.483618233618234\n",
      "New data [3, 5]\n",
      "Running average is 4.482930298719772\n",
      "New data [7, 5]\n",
      "Running average is 4.4850852272727275\n",
      "New data [0, 5]\n",
      "Running average is 4.4822695035460995\n",
      "New data [0, 7]\n",
      "Running average is 4.480878186968838\n",
      "New data [9, 3]\n",
      "Running average is 4.483026874115983\n",
      "New data [0, 4]\n",
      "Running average is 4.479519774011299\n",
      "New data [2, 9]\n",
      "Running average is 4.480959097320169\n",
      "New data [4, 7]\n",
      "Running average is 4.482394366197183\n",
      "New data [3, 6]\n",
      "Running average is 4.482419127988749\n",
      "New data [0, 6]\n",
      "Running average is 4.480337078651686\n",
      "New data [5, 9]\n",
      "Running average is 4.483870967741935\n",
      "New data [3, 2]\n",
      "Running average is 4.48109243697479\n",
      "New data [2, 9]\n",
      "Running average is 4.4825174825174825\n",
      "New data [1, 7]\n",
      "Running average is 4.481843575418995\n",
      "New data [2, 8]\n",
      "Running average is 4.482566248256624\n",
      "New data [6, 2]\n",
      "Running average is 4.481894150417827\n",
      "New data [1, 3]\n",
      "Running average is 4.478442280945758\n",
      "New data [8, 2]\n",
      "Running average is 4.479166666666667\n",
      "New data [0, 9]\n",
      "Running average is 4.479195561719833\n",
      "New data [3, 8]\n",
      "Running average is 4.480609418282548\n",
      "New data [4, 1]\n",
      "Running average is 4.477869986168741\n",
      "New data [6, 0]\n",
      "Running average is 4.475828729281768\n",
      "New data [2, 0]\n",
      "Running average is 4.471034482758621\n",
      "New data [2, 0]\n",
      "Running average is 4.4662534435261705\n",
      "New data [6, 4]\n",
      "Running average is 4.466987620357634\n",
      "New data [7, 3]\n",
      "Running average is 4.46771978021978\n",
      "New data [6, 3]\n",
      "Running average is 4.467764060356653\n",
      "New data [8, 5]\n",
      "Running average is 4.470547945205479\n",
      "New data [4, 2]\n",
      "Running average is 4.4685362517099865\n",
      "New data [1, 5]\n",
      "Running average is 4.466530054644808\n",
      "New data [9, 0]\n",
      "Running average is 4.466575716234652\n",
      "New data [5, 6]\n",
      "Running average is 4.467983651226158\n",
      "New data [6, 7]\n",
      "Running average is 4.470748299319728\n",
      "New data [8, 4]\n",
      "Running average is 4.4728260869565215\n",
      "New data [3, 6]\n",
      "Running average is 4.4728629579375845\n",
      "New data [5, 2]\n",
      "Running average is 4.471544715447155\n",
      "New data [2, 1]\n",
      "Running average is 4.467523680649526\n",
      "New data [1, 0]\n",
      "Running average is 4.462162162162162\n",
      "New data [9, 7]\n",
      "Running average is 4.46693657219973\n",
      "New data [3, 5]\n",
      "Running average is 4.466307277628032\n",
      "New data [9, 0]\n",
      "Running average is 4.46635262449529\n",
      "New data [4, 8]\n",
      "Running average is 4.468413978494624\n",
      "New data [1, 9]\n",
      "Running average is 4.469127516778523\n",
      "New data [2, 8]\n",
      "Running average is 4.4698391420911525\n",
      "New data [5, 7]\n",
      "Running average is 4.471887550200803\n",
      "New data [7, 1]\n",
      "Running average is 4.471256684491979\n",
      "New data [7, 0]\n",
      "Running average is 4.469959946595461\n",
      "New data [3, 5]\n",
      "Running average is 4.469333333333333\n",
      "New data [0, 6]\n",
      "Running average is 4.467376830892144\n",
      "New data [7, 4]\n",
      "Running average is 4.46875\n",
      "New data [7, 6]\n",
      "Running average is 4.47144754316069\n",
      "New data [4, 2]\n",
      "Running average is 4.469496021220159\n",
      "New data [1, 5]\n",
      "Running average is 4.467549668874172\n",
      "New data [6, 9]\n",
      "Running average is 4.4715608465608465\n",
      "New data [3, 4]\n",
      "Running average is 4.4702774108322325\n",
      "New data [9, 4]\n",
      "Running average is 4.472955145118734\n",
      "New data [8, 3]\n",
      "Running average is 4.474308300395257\n",
      "New data [2, 6]\n",
      "Running average is 4.473684210526316\n",
      "New data [3, 0]\n",
      "Running average is 4.469776609724048\n",
      "New data [6, 2]\n",
      "Running average is 4.4691601049868765\n",
      "New data [4, 3]\n",
      "Running average is 4.467889908256881\n",
      "New data [3, 0]\n",
      "Running average is 4.4640052356020945\n",
      "New data [1, 3]\n",
      "Running average is 4.46078431372549\n",
      "New data [6, 5]\n",
      "Running average is 4.462140992167102\n",
      "New data [9, 4]\n",
      "Running average is 4.4647979139504566\n",
      "New data [0, 7]\n",
      "Running average is 4.463541666666667\n",
      "New data [8, 6]\n",
      "Running average is 4.466840052015605\n",
      "New data [8, 3]\n",
      "Running average is 4.468181818181818\n",
      "New data [1, 8]\n",
      "Running average is 4.46822308690013\n",
      "New data [1, 3]\n",
      "Running average is 4.465025906735751\n",
      "New data [3, 7]\n",
      "Running average is 4.465717981888745\n",
      "New data [9, 2]\n",
      "Running average is 4.467054263565892\n",
      "New data [8, 6]\n",
      "Running average is 4.470322580645162\n",
      "New data [3, 8]\n",
      "Running average is 4.471649484536083\n",
      "New data [2, 1]\n",
      "Running average is 4.467824967824968\n",
      "New data [3, 1]\n",
      "Running average is 4.464652956298201\n",
      "New data [7, 8]\n",
      "Running average is 4.468549422336329\n",
      "New data [7, 1]\n",
      "Running average is 4.467948717948718\n",
      "New data [9, 6]\n",
      "Running average is 4.471830985915493\n",
      "New data [1, 3]\n",
      "Running average is 4.468670076726343\n",
      "New data [2, 4]\n",
      "Running average is 4.466794380587484\n",
      "New data [9, 4]\n",
      "Running average is 4.469387755102041\n",
      "New data [6, 3]\n",
      "Running average is 4.469426751592357\n",
      "New data [8, 9]\n",
      "Running average is 4.474554707379135\n",
      "New data [2, 8]\n",
      "Running average is 4.4752223634053365\n",
      "New data [6, 8]\n",
      "Running average is 4.478426395939087\n",
      "New data [7, 3]\n",
      "Running average is 4.479087452471483\n",
      "New data [7, 9]\n",
      "Running average is 4.483544303797468\n",
      "New data [5, 8]\n",
      "Running average is 4.486093552465234\n",
      "New data [6, 8]\n",
      "Running average is 4.4892676767676765\n",
      "New data [0, 1]\n",
      "Running average is 4.484237074401009\n",
      "New data [6, 2]\n",
      "Running average is 4.483627204030227\n",
      "New data [0, 6]\n",
      "Running average is 4.481761006289308\n",
      "New data [6, 4]\n",
      "Running average is 4.482412060301508\n",
      "New data [1, 5]\n",
      "Running average is 4.480552070263488\n",
      "New data [0, 1]\n",
      "Running average is 4.475563909774436\n",
      "New data [4, 6]\n",
      "Running average is 4.47622027534418\n",
      "New data [1, 0]\n",
      "Running average is 4.47125\n",
      "New data [4, 1]\n",
      "Running average is 4.468789013732834\n",
      "New data [8, 6]\n",
      "Running average is 4.471945137157107\n",
      "New data [4, 8]\n",
      "Running average is 4.473848069738481\n",
      "New data [1, 7]\n",
      "Running average is 4.473258706467662\n",
      "New data [5, 2]\n",
      "Running average is 4.472049689440993\n",
      "New data [1, 4]\n",
      "Running average is 4.469602977667494\n",
      "New data [9, 3]\n",
      "Running average is 4.471499380421314\n",
      "New data [8, 3]\n",
      "Running average is 4.4727722772277225\n",
      "New data [7, 4]\n",
      "Running average is 4.474042027194066\n",
      "New data [8, 0]\n",
      "Running average is 4.473456790123457\n",
      "New data [3, 4]\n",
      "Running average is 4.472256473489519\n",
      "New data [9, 2]\n",
      "Running average is 4.473522167487685\n",
      "New data [6, 8]\n",
      "Running average is 4.476629766297663\n",
      "New data [7, 4]\n",
      "Running average is 4.477886977886978\n",
      "New data [0, 2]\n",
      "Running average is 4.47361963190184\n",
      "New data [9, 5]\n",
      "Running average is 4.47671568627451\n",
      "New data [4, 5]\n",
      "Running average is 4.476744186046512\n",
      "New data [5, 0]\n",
      "Running average is 4.474327628361858\n",
      "New data [1, 9]\n",
      "Running average is 4.474969474969475\n",
      "New data [6, 8]\n",
      "Running average is 4.478048780487805\n",
      "New data [0, 4]\n",
      "Running average is 4.475030450669915\n",
      "New data [4, 2]\n",
      "Running average is 4.47323600973236\n",
      "New data [8, 1]\n",
      "Running average is 4.473268529769137\n",
      "New data [3, 6]\n",
      "Running average is 4.473300970873787\n",
      "New data [9, 0]\n",
      "Running average is 4.473333333333334\n",
      "New data [9, 6]\n",
      "Running average is 4.476997578692494\n",
      "New data [6, 4]\n",
      "Running average is 4.477629987908101\n",
      "New data [0, 8]\n",
      "Running average is 4.4770531400966185\n",
      "New data [0, 1]\n",
      "Running average is 4.4722557297949335\n",
      "New data [2, 6]\n",
      "Running average is 4.4716867469879515\n",
      "New data [5, 7]\n",
      "Running average is 4.47352587244284\n",
      "New data [5, 7]\n",
      "Running average is 4.475360576923077\n",
      "New data [6, 7]\n",
      "Running average is 4.4777911164465785\n",
      "New data [7, 2]\n",
      "Running average is 4.477817745803358\n",
      "New data [5, 4]\n",
      "Running average is 4.477844311377246\n",
      "New data [5, 9]\n",
      "Running average is 4.480861244019139\n",
      "New data [9, 2]\n",
      "Running average is 4.482078853046595\n",
      "New data [6, 7]\n",
      "Running average is 4.484486873508353\n",
      "New data [3, 0]\n",
      "Running average is 4.480929678188319\n",
      "New data [3, 5]\n",
      "Running average is 4.480357142857143\n",
      "New data [8, 1]\n",
      "Running average is 4.48038049940547\n",
      "New data [5, 9]\n",
      "Running average is 4.483372921615202\n",
      "New data [8, 1]\n",
      "Running average is 4.483392645314353\n",
      "New data [8, 4]\n",
      "Running average is 4.485189573459715\n",
      "New data [9, 4]\n",
      "Running average is 4.487573964497042\n",
      "New data [0, 7]\n",
      "Running average is 4.486406619385343\n",
      "New data [0, 8]\n",
      "Running average is 4.485832349468713\n",
      "New data [8, 7]\n",
      "Running average is 4.48938679245283\n",
      "New data [2, 6]\n",
      "Running average is 4.488810365135453\n",
      "New data [7, 8]\n",
      "Running average is 4.49235294117647\n",
      "New data [2, 3]\n",
      "Running average is 4.490011750881316\n",
      "New data [2, 4]\n",
      "Running average is 4.488262910798122\n",
      "New data [2, 6]\n",
      "Running average is 4.487690504103165\n",
      "New data [3, 2]\n",
      "Running average is 4.48536299765808\n",
      "New data [9, 1]\n",
      "Running average is 4.485964912280702\n",
      "New data [3, 2]\n",
      "Running average is 4.483644859813084\n",
      "New data [6, 4]\n",
      "Running average is 4.484247374562427\n",
      "New data [6, 2]\n",
      "Running average is 4.483682983682984\n",
      "New data [0, 3]\n",
      "Running average is 4.480209545983702\n",
      "New data [8, 0]\n",
      "Running average is 4.479651162790698\n",
      "New data [5, 1]\n",
      "Running average is 4.477932636469222\n",
      "New data [5, 9]\n",
      "Running average is 4.480858468677495\n",
      "New data [3, 9]\n",
      "Running average is 4.4826187717265356\n",
      "New data [2, 8]\n",
      "Running average is 4.483217592592593\n",
      "New data [9, 0]\n",
      "Running average is 4.483236994219653\n",
      "New data [4, 6]\n",
      "Running average is 4.483833718244804\n",
      "New data [8, 1]\n",
      "Running average is 4.483852364475202\n",
      "New data [2, 5]\n",
      "Running average is 4.482718894009216\n",
      "New data [2, 7]\n",
      "Running average is 4.482738780207135\n",
      "New data [8, 1]\n",
      "Running average is 4.482758620689655\n",
      "New data [6, 1]\n",
      "Running average is 4.481630309988519\n",
      "New data [9, 6]\n",
      "Running average is 4.485091743119266\n",
      "New data [7, 5]\n",
      "Running average is 4.486827033218786\n",
      "New data [2, 1]\n",
      "Running average is 4.483409610983982\n",
      "New data [3, 0]\n",
      "Running average is 4.48\n",
      "New data [3, 6]\n",
      "Running average is 4.480022831050229\n",
      "New data [7, 0]\n",
      "Running average is 4.478905359179019\n",
      "New data [2, 1]\n",
      "Running average is 4.475512528473804\n",
      "New data [4, 0]\n",
      "Running average is 4.472696245733788\n",
      "New data [0, 7]\n",
      "Running average is 4.471590909090909\n",
      "New data [4, 1]\n",
      "Running average is 4.469353007945516\n",
      "New data [4, 0]\n",
      "Running average is 4.466553287981859\n",
      "New data [9, 0]\n",
      "Running average is 4.466591166477916\n",
      "New data [9, 8]\n",
      "Running average is 4.471153846153846\n",
      "New data [5, 0]\n",
      "Running average is 4.468926553672317\n",
      "New data [8, 1]\n",
      "Running average is 4.468961625282167\n",
      "New data [4, 7]\n",
      "Running average is 4.470124013528749\n",
      "New data [1, 9]\n",
      "Running average is 4.4707207207207205\n",
      "New data [2, 1]\n",
      "Running average is 4.467379077615298\n",
      "New data [6, 9]\n",
      "Running average is 4.4707865168539325\n",
      "New data [2, 9]\n",
      "Running average is 4.471941638608305\n",
      "New data [0, 3]\n",
      "Running average is 4.468609865470852\n",
      "New data [3, 8]\n",
      "Running average is 4.46976483762598\n",
      "New data [6, 8]\n",
      "Running average is 4.4725950782997765\n",
      "New data [6, 2]\n",
      "Running average is 4.472067039106145\n",
      "New data [8, 5]\n",
      "Running average is 4.474330357142857\n",
      "New data [0, 5]\n",
      "Running average is 4.472129319955407\n",
      "New data [3, 4]\n",
      "Running average is 4.471046770601336\n",
      "New data [5, 6]\n",
      "Running average is 4.472191323692992\n",
      "New data [2, 0]\n",
      "Running average is 4.468333333333334\n",
      "New data [3, 7]\n",
      "Running average is 4.468923418423973\n",
      "New data [7, 8]\n",
      "Running average is 4.472283813747229\n",
      "New data [0, 7]\n",
      "Running average is 4.471207087486158\n",
      "New data [9, 5]\n",
      "Running average is 4.474004424778761\n",
      "New data [0, 7]\n",
      "Running average is 4.47292817679558\n",
      "New data [6, 9]\n",
      "Running average is 4.47626931567329\n",
      "New data [6, 7]\n",
      "Running average is 4.478500551267916\n",
      "New data [5, 7]\n",
      "Running average is 4.4801762114537445\n",
      "New data [8, 5]\n",
      "Running average is 4.482398239823983\n",
      "New data [6, 3]\n",
      "Running average is 4.4824175824175825\n",
      "New data [3, 2]\n",
      "Running average is 4.480241492864984\n",
      "New data [1, 0]\n",
      "Running average is 4.475877192982456\n",
      "New data [6, 5]\n",
      "Running average is 4.476998904709748\n",
      "New data [5, 3]\n",
      "Running average is 4.476477024070022\n",
      "New data [5, 8]\n",
      "Running average is 4.478688524590164\n",
      "New data [8, 2]\n",
      "Running average is 4.479257641921397\n",
      "New data [6, 2]\n",
      "Running average is 4.478735005452562\n",
      "New data [5, 1]\n",
      "Running average is 4.477124183006536\n",
      "New data [3, 9]\n",
      "Running average is 4.478781284004352\n",
      "New data [4, 9]\n",
      "Running average is 4.480978260869565\n",
      "New data [2, 1]\n",
      "Running average is 4.477741585233442\n",
      "New data [7, 1]\n",
      "Running average is 4.477223427331888\n",
      "New data [2, 7]\n",
      "Running average is 4.477248104008668\n",
      "New data [2, 6]\n",
      "Running average is 4.4767316017316015\n",
      "New data [1, 3]\n",
      "Running average is 4.474054054054054\n",
      "New data [9, 8]\n",
      "Running average is 4.478401727861771\n",
      "New data [3, 8]\n",
      "Running average is 4.47950377562028\n",
      "New data [4, 5]\n",
      "Running average is 4.479525862068965\n",
      "New data [1, 3]\n",
      "Running average is 4.476856835306782\n",
      "New data [2, 1]\n",
      "Running average is 4.473655913978495\n",
      "New data [3, 4]\n",
      "Running average is 4.472610096670247\n",
      "New data [5, 1]\n",
      "Running average is 4.471030042918455\n",
      "New data [1, 2]\n",
      "Running average is 4.467845659163987\n",
      "New data [3, 5]\n",
      "Running average is 4.467344753747323\n",
      "New data [5, 0]\n",
      "Running average is 4.46524064171123\n",
      "New data [1, 0]\n",
      "Running average is 4.461004273504273\n",
      "New data [7, 5]\n",
      "Running average is 4.4626467449306295\n",
      "New data [7, 6]\n",
      "Running average is 4.464818763326226\n",
      "New data [9, 4]\n",
      "Running average is 4.466986155484558\n",
      "New data [2, 0]\n",
      "Running average is 4.4632978723404255\n",
      "New data [6, 9]\n",
      "Running average is 4.466524973432518\n",
      "New data [5, 7]\n",
      "Running average is 4.468152866242038\n",
      "New data [2, 9]\n",
      "Running average is 4.469247083775185\n",
      "New data [5, 0]\n",
      "Running average is 4.467161016949152\n",
      "New data [0, 8]\n",
      "Running average is 4.466666666666667\n",
      "New data [9, 0]\n",
      "Running average is 4.466701902748414\n",
      "New data [0, 5]\n",
      "Running average is 4.464625131995776\n",
      "New data [9, 2]\n",
      "Running average is 4.465717299578059\n",
      "New data [6, 2]\n",
      "Running average is 4.46522655426765\n",
      "New data [4, 3]\n",
      "Running average is 4.46421052631579\n",
      "New data [5, 0]\n",
      "Running average is 4.462145110410095\n",
      "New data [9, 3]\n",
      "Running average is 4.463760504201681\n",
      "New data [6, 1]\n",
      "Running average is 4.462749213011542\n",
      "New data [3, 2]\n",
      "Running average is 4.460691823899371\n",
      "New data [2, 8]\n",
      "Running average is 4.461256544502618\n",
      "New data [0, 7]\n",
      "Running average is 4.460251046025105\n",
      "New data [0, 9]\n",
      "Running average is 4.4602925809822365\n",
      "New data [8, 2]\n",
      "Running average is 4.460855949895616\n",
      "New data [7, 5]\n",
      "Running average is 4.462460896767466\n",
      "New data [8, 4]\n",
      "Running average is 4.4640625\n",
      "New data [5, 6]\n",
      "Running average is 4.465140478668054\n",
      "New data [9, 7]\n",
      "Running average is 4.468814968814969\n",
      "New data [2, 4]\n",
      "Running average is 4.4672897196261685\n",
      "New data [7, 4]\n",
      "Running average is 4.468360995850622\n",
      "New data [3, 7]\n",
      "Running average is 4.4689119170984455\n",
      "New data [3, 5]\n",
      "Running average is 4.4684265010351965\n",
      "New data [6, 4]\n",
      "Running average is 4.468976215098242\n",
      "New data [0, 7]\n",
      "Running average is 4.4679752066115705\n",
      "New data [2, 9]\n",
      "Running average is 4.469040247678018\n",
      "New data [0, 8]\n",
      "Running average is 4.468556701030928\n",
      "New data [0, 2]\n",
      "Running average is 4.4649845520082385\n",
      "New data [1, 9]\n",
      "Running average is 4.465534979423868\n",
      "New data [2, 6]\n",
      "Running average is 4.465056526207605\n",
      "New data [1, 5]\n",
      "Running average is 4.463552361396304\n",
      "New data [7, 1]\n",
      "Running average is 4.463076923076923\n",
      "New data [6, 8]\n",
      "Running average is 4.465676229508197\n",
      "New data [3, 6]\n",
      "Running average is 4.465711361310133\n",
      "New data [6, 8]\n",
      "Running average is 4.468302658486707\n",
      "New data [4, 7]\n",
      "Running average is 4.469356486210419\n",
      "New data [7, 3]\n",
      "Running average is 4.469897959183673\n",
      "New data [4, 3]\n",
      "Running average is 4.468909276248726\n",
      "New data [8, 0]\n",
      "Running average is 4.468431771894093\n",
      "New data [6, 8]\n",
      "Running average is 4.471007121057986\n",
      "New data [9, 2]\n",
      "Running average is 4.472052845528455\n",
      "New data [7, 8]\n",
      "Running average is 4.475126903553299\n",
      "New data [2, 1]\n",
      "Running average is 4.47210953346856\n",
      "New data [6, 7]\n",
      "Running average is 4.474164133738602\n",
      "New data [9, 7]\n",
      "Running average is 4.477732793522267\n",
      "New data [9, 0]\n",
      "Running average is 4.477755308392315\n",
      "New data [1, 5]\n",
      "Running average is 4.476262626262626\n",
      "New data [9, 0]\n",
      "Running average is 4.476286579212916\n",
      "New data [1, 9]\n",
      "Running average is 4.476814516129032\n",
      "New data [2, 1]\n",
      "Running average is 4.473816717019134\n",
      "New data [5, 4]\n",
      "Running average is 4.4738430583501\n",
      "New data [3, 5]\n",
      "Running average is 4.473366834170855\n",
      "New data [0, 8]\n",
      "Running average is 4.47289156626506\n",
      "New data [3, 1]\n",
      "Running average is 4.470411233701103\n",
      "New data [6, 9]\n",
      "Running average is 4.4734468937875755\n",
      "New data [0, 6]\n",
      "Running average is 4.471971971971972\n",
      "New data [5, 0]\n",
      "Running average is 4.47\n"
     ]
    }
   ],
   "source": [
    "consumer = consume()\n",
    "next(consumer)\n",
    "producer = produce(consumer)\n",
    "\n",
    "for _ in range(1000):\n",
    "    next(producer)"
   ]
  },
  {
   "cell_type": "markdown",
   "metadata": {},
   "source": [
    "Чем хороша приведённая конструкция (её идея)? Мы не просто разделили процесс генерации и обработки данных, это можно было сделать и без всяких генераторов. **Send** создаёт отдельный поток вычислений, которые производятся параллельно основному телу программы. Таким образом, генерить и обрабатывать данные многими разными способами можно в параллели, притормаживая только по ключевому слову *yield* чтобы дождаться данных или следующего обращения. \n",
    "\n",
    "Теперь, можем сказать что для генераторов next(a) эквивалентент a.send(None).\n",
    "\n",
    "Всё это называется Coroutine и поподробнее можно почитать в PEP-342 https://www.python.org/dev/peps/pep-0342/"
   ]
  },
  {
   "cell_type": "markdown",
   "metadata": {},
   "source": [
    "![alt text](Python06-iterators/coroutine.jpg)"
   ]
  },
  {
   "cell_type": "markdown",
   "metadata": {},
   "source": [
    "Эта идея позволяет нам, например, создать планировщик задач, который по определенным условиям будет запускать тот или иной генератор, и экономить время выполняя их в параллели и переключаясь на них только когда это требуется. \n",
    "\n",
    "*Те кто переживает что плохо понял тему, и кто хочет разобраться и закрепить в памяти материал по генераторам, могут после лекции попробовать написать генератор, который в параллели качнет наши прошедшие лекции, обложить таймерами, и убедиться что это действительно работает быстрее. Это не обязательное задание, но это поможет усвоить материал. Ничего никуда посылать не надо*"
   ]
  },
  {
   "cell_type": "markdown",
   "metadata": {},
   "source": [
    "Последнее, что хотелось бы рассмотреть это конструкция **yield from**. Обычно говорят, что эта конструкция устанавливает двунаправленную связь между вызывающим генератором и суб-генератором, передавая, в том числе, исключения (transparent two way channel).\n",
    "\n",
    "Сначала простой пример:"
   ]
  },
  {
   "cell_type": "code",
   "execution_count": 63,
   "metadata": {},
   "outputs": [],
   "source": [
    "def generator_simple():\n",
    "    for i in range(10):\n",
    "        yield i\n",
    "    for j in range(10, 20):\n",
    "        yield j"
   ]
  },
  {
   "cell_type": "markdown",
   "metadata": {},
   "source": [
    "Он, будет выдавать нам числа от 0 до 19. И мы решили разбить его на две части чтобы их можно было еще использовать по отдельности."
   ]
  },
  {
   "cell_type": "code",
   "execution_count": 64,
   "metadata": {},
   "outputs": [],
   "source": [
    "def generator1():\n",
    "    for i in range(10):\n",
    "        yield i\n",
    "\n",
    "def generator2():\n",
    "    for j in range(10, 20):\n",
    "        yield j\n",
    "        \n",
    "def generator():\n",
    "    for i in generator1():\n",
    "        yield i\n",
    "    for j in generator2():\n",
    "        yield j"
   ]
  },
  {
   "cell_type": "code",
   "execution_count": 65,
   "metadata": {},
   "outputs": [],
   "source": [
    "# То же самое можно записать в виде\n",
    "def generator_from():\n",
    "    yield from generator1()\n",
    "    yield from generator2()"
   ]
  },
  {
   "cell_type": "markdown",
   "metadata": {},
   "source": [
    "Понятно, что это не очень впечатляет, так что давайте посмотрим чуть более сложный пример"
   ]
  },
  {
   "cell_type": "code",
   "execution_count": 66,
   "metadata": {},
   "outputs": [],
   "source": [
    "def writer():\n",
    "    \"\"\"A coroutine that writes data *sent* to it \"\"\"\n",
    "    while True:\n",
    "        w = (yield)\n",
    "        print('>> ', w)\n",
    "\n",
    "def writer_wrapper(coro):\n",
    "    coro.send(None)  # Для инициализации\n",
    "    while True:\n",
    "        try:\n",
    "            x = (yield)  # Принимаем\n",
    "            coro.send(x)  # и передаём\n",
    "        except StopIteration:\n",
    "            pass"
   ]
  },
  {
   "cell_type": "code",
   "execution_count": 67,
   "metadata": {},
   "outputs": [
    {
     "name": "stdout",
     "output_type": "stream",
     "text": [
      ">>  0\n",
      ">>  1\n",
      ">>  2\n",
      ">>  3\n"
     ]
    }
   ],
   "source": [
    "w = writer()\n",
    "wrap = writer_wrapper(w)\n",
    "wrap.send(None)\n",
    "for i in range(4):\n",
    "    wrap.send(i)"
   ]
  },
  {
   "cell_type": "code",
   "execution_count": 68,
   "metadata": {},
   "outputs": [],
   "source": [
    "#Всё то же самое выполняется при помощи yield from\n",
    "def writer_wrapper_from(coro):\n",
    "    yield from coro"
   ]
  },
  {
   "cell_type": "code",
   "execution_count": 69,
   "metadata": {},
   "outputs": [
    {
     "name": "stdout",
     "output_type": "stream",
     "text": [
      ">>  0\n",
      ">>  1\n",
      ">>  2\n",
      ">>  3\n"
     ]
    }
   ],
   "source": [
    "w = writer()\n",
    "wrap = writer_wrapper_from(w)\n",
    "wrap.send(None)\n",
    "for i in range(4):\n",
    "    wrap.send(i)"
   ]
  },
  {
   "cell_type": "markdown",
   "metadata": {},
   "source": [
    "Если подытожить, то yield from позволяет серьезно упростить код и не думать о всяких вещах, о которых мы обычно не хотим думать, и **не теряет** при этом никаких важных исключений или типа того."
   ]
  },
  {
   "cell_type": "markdown",
   "metadata": {},
   "source": [
    "# Декораторы"
   ]
  },
  {
   "cell_type": "markdown",
   "metadata": {},
   "source": [
    "Допустим, мы столкнулись с задачей, что нам надо подправить кое-какие функции, но лезть в них и менять код прямо там нам не сильно охота, потому что, например, мы можем потом передумать. Или переживаем за общую совместимость в большом проекте. Сделаем обёртку нужной нам функции:"
   ]
  },
  {
   "cell_type": "code",
   "execution_count": 70,
   "metadata": {},
   "outputs": [],
   "source": [
    "def deprecated(func):\n",
    "    def wrap(*args, **kwargs):\n",
    "        print ('{} will be deprecated soon'.format(func.__name__))\n",
    "        return func(*args, **kwargs)\n",
    "    return wrap"
   ]
  },
  {
   "cell_type": "code",
   "execution_count": 71,
   "metadata": {},
   "outputs": [],
   "source": [
    "def my_func(x):\n",
    "    return x+3\n",
    "\n",
    "# \"Обернём\" нашу функцию посредством переприсвоения\n",
    "my_func = deprecated(my_func)"
   ]
  },
  {
   "cell_type": "code",
   "execution_count": 72,
   "metadata": {},
   "outputs": [
    {
     "name": "stdout",
     "output_type": "stream",
     "text": [
      "my_func will be deprecated soon\n"
     ]
    },
    {
     "data": {
      "text/plain": [
       "5"
      ]
     },
     "execution_count": 72,
     "metadata": {},
     "output_type": "execute_result"
    }
   ],
   "source": [
    "my_func(2)"
   ]
  },
  {
   "cell_type": "code",
   "execution_count": 73,
   "metadata": {},
   "outputs": [],
   "source": [
    "# Ровно то же самое можно записать без переприсвоения:\n",
    "@deprecated # Это декоратор\n",
    "def my_func(x):\n",
    "    return x+3"
   ]
  },
  {
   "cell_type": "code",
   "execution_count": 74,
   "metadata": {},
   "outputs": [
    {
     "name": "stdout",
     "output_type": "stream",
     "text": [
      "my_func will be deprecated soon\n"
     ]
    },
    {
     "data": {
      "text/plain": [
       "5"
      ]
     },
     "execution_count": 74,
     "metadata": {},
     "output_type": "execute_result"
    }
   ],
   "source": [
    "my_func(2)"
   ]
  },
  {
   "cell_type": "code",
   "execution_count": 75,
   "metadata": {},
   "outputs": [
    {
     "data": {
      "text/plain": [
       "'wrap'"
      ]
     },
     "execution_count": 75,
     "metadata": {},
     "output_type": "execute_result"
    }
   ],
   "source": [
    "# Но, заметим, что именем ф-ии стало имя обёртки\n",
    "my_func.__name__"
   ]
  },
  {
   "cell_type": "markdown",
   "metadata": {},
   "source": [
    "Чтобы сделать красивый декоратор и совсем ничего в функции не менять, кроме того что мы поменять хотим, давайте воспользуемся библиотекой functools ![alt text](Python06-iterators/decoration.jpeg)"
   ]
  },
  {
   "cell_type": "code",
   "execution_count": 76,
   "metadata": {},
   "outputs": [
    {
     "data": {
      "text/plain": [
       "'my_func'"
      ]
     },
     "execution_count": 76,
     "metadata": {},
     "output_type": "execute_result"
    }
   ],
   "source": [
    "import functools\n",
    "\n",
    "def deprecated(func):\n",
    "    @functools.wraps(func)\n",
    "    def wrap(*args, **kwargs):\n",
    "        print ('{} will be deprecated soon'.format(func.__name__))\n",
    "        return func(*args, **kwargs)\n",
    "    return wrap\n",
    "\n",
    "@deprecated\n",
    "def my_func(x):\n",
    "    return x+3\n",
    "\n",
    "my_func.__name__"
   ]
  },
  {
   "cell_type": "markdown",
   "metadata": {},
   "source": [
    "Functools - высокоуровневая библиотека, упрощающая работу с функциями и другими вызываемыми объектами, когда требуется расширить, дополнить или даже полностью изменить сам объект. Более детально можно познакомиться, например, здесь https://docs.python.org/3.3/library/functools.html"
   ]
  },
  {
   "cell_type": "markdown",
   "metadata": {},
   "source": [
    "Декораторы работают с классами так же как и с функциями. Создадим декоратор выводящий время работы декорируемой функции, простой класс производящий какую-то операцию, наложим и посмотрим"
   ]
  },
  {
   "cell_type": "code",
   "execution_count": 77,
   "metadata": {},
   "outputs": [],
   "source": [
    "import time\n",
    "\n",
    "def timer(func):\n",
    "    \"\"\"Print the runtime of the decorated function\"\"\"\n",
    "    @functools.wraps(func)\n",
    "    def wrapper_timer(*args, **kwargs):\n",
    "        start_time = time.perf_counter()    # 1\n",
    "        value = func(*args, **kwargs)\n",
    "        end_time = time.perf_counter()      # 2\n",
    "        run_time = end_time - start_time    # 3\n",
    "        print(f\"Finished {func.__name__!r} in {run_time:.4f} secs\")\n",
    "        return value\n",
    "    return wrapper_timer\n"
   ]
  },
  {
   "cell_type": "code",
   "execution_count": 78,
   "metadata": {},
   "outputs": [],
   "source": [
    "class TimeWaster:    \n",
    "    def __init__(self, max_num):\n",
    "        self.max_num = max_num\n",
    "\n",
    "    #@timer\n",
    "    def waste_time(self, num_times):\n",
    "        for _ in range(num_times):\n",
    "            sum([i**2 for i in range(self.max_num)])        "
   ]
  },
  {
   "cell_type": "code",
   "execution_count": 79,
   "metadata": {},
   "outputs": [],
   "source": [
    "tw = TimeWaster(1000)\n",
    "tw.waste_time(999)"
   ]
  },
  {
   "cell_type": "markdown",
   "metadata": {},
   "source": [
    "Допустим, мы хотим чтобы наш декоратор что-то нам важное вывел, например исключение. Только не в общий вывод, чтобы не засорять, а куда-то в другое место, где мы при необходимости прочитаем. Для этого можно использовать атрибуты декоратора"
   ]
  },
  {
   "cell_type": "code",
   "execution_count": 80,
   "metadata": {},
   "outputs": [],
   "source": [
    "def redirected_output(destination=None):        \n",
    "    def wrapper(*args, **kwargs):\n",
    "        with open(destination, 'w') as output:\n",
    "            print('Some important information', \n",
    "                  file=output)    \n",
    "    return wrapper"
   ]
  },
  {
   "cell_type": "code",
   "execution_count": 81,
   "metadata": {},
   "outputs": [],
   "source": [
    "@redirected_output(destination='log.txt')\n",
    "def foo():\n",
    "    pass"
   ]
  },
  {
   "cell_type": "markdown",
   "metadata": {},
   "source": [
    "Этот пример не очень хорош, зато он прост и демонстрирует, что в сам декоратор можно передавать входные данные"
   ]
  },
  {
   "cell_type": "markdown",
   "metadata": {},
   "source": [
    "![alt text](Python06-iterators/end.jpg)"
   ]
  },
  {
   "cell_type": "code",
   "execution_count": null,
   "metadata": {},
   "outputs": [],
   "source": []
  }
 ],
 "metadata": {
  "kernelspec": {
   "display_name": "Python 3",
   "language": "python",
   "name": "python3"
  },
  "language_info": {
   "codemirror_mode": {
    "name": "ipython",
    "version": 3
   },
   "file_extension": ".py",
   "mimetype": "text/x-python",
   "name": "python",
   "nbconvert_exporter": "python",
   "pygments_lexer": "ipython3",
   "version": "3.7.5"
  }
 },
 "nbformat": 4,
 "nbformat_minor": 4
}
